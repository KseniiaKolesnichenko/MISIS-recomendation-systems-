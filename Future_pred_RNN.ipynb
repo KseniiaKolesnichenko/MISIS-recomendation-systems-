{
  "nbformat": 4,
  "nbformat_minor": 0,
  "metadata": {
    "kernelspec": {
      "display_name": "Python 3",
      "language": "python",
      "name": "python3"
    },
    "language_info": {
      "codemirror_mode": {
        "name": "ipython",
        "version": 3
      },
      "file_extension": ".py",
      "mimetype": "text/x-python",
      "name": "python",
      "nbconvert_exporter": "python",
      "pygments_lexer": "ipython3",
      "version": "3.7.6"
    },
    "colab": {
      "name": "Future_pred_RNN.ipynb",
      "provenance": [],
      "collapsed_sections": [
        "ixhVEiF_AwEM",
        "BD0NgiFrSG3I",
        "3uf4xSUsAwEY"
      ],
      "include_colab_link": true
    },
    "accelerator": "GPU"
  },
  "cells": [
    {
      "cell_type": "markdown",
      "metadata": {
        "id": "view-in-github",
        "colab_type": "text"
      },
      "source": [
        "<a href=\"https://colab.research.google.com/github/KseniiaKolesnichenko/MISIS-recomendation-systems-/blob/main/Future_pred_RNN.ipynb\" target=\"_parent\"><img src=\"https://colab.research.google.com/assets/colab-badge.svg\" alt=\"Open In Colab\"/></a>"
      ]
    },
    {
      "cell_type": "code",
      "metadata": {
        "colab": {
          "base_uri": "https://localhost:8080/",
          "height": 361
        },
        "id": "arqwPTGkDFkw",
        "outputId": "7cb505f3-5e38-40fd-ccb9-69d689237b08"
      },
      "source": [
        "!pip install --upgrade numpy"
      ],
      "execution_count": null,
      "outputs": [
        {
          "output_type": "stream",
          "name": "stdout",
          "text": [
            "Requirement already satisfied: numpy in /usr/local/lib/python3.7/dist-packages (1.19.5)\n",
            "Collecting numpy\n",
            "  Downloading numpy-1.21.2-cp37-cp37m-manylinux_2_12_x86_64.manylinux2010_x86_64.whl (15.7 MB)\n",
            "\u001b[K     |████████████████████████████████| 15.7 MB 189 kB/s \n",
            "\u001b[?25hInstalling collected packages: numpy\n",
            "  Attempting uninstall: numpy\n",
            "    Found existing installation: numpy 1.19.5\n",
            "    Uninstalling numpy-1.19.5:\n",
            "      Successfully uninstalled numpy-1.19.5\n",
            "\u001b[31mERROR: pip's dependency resolver does not currently take into account all the packages that are installed. This behaviour is the source of the following dependency conflicts.\n",
            "tensorflow 2.6.0 requires numpy~=1.19.2, but you have numpy 1.21.2 which is incompatible.\n",
            "datascience 0.10.6 requires folium==0.2.1, but you have folium 0.8.3 which is incompatible.\n",
            "albumentations 0.1.12 requires imgaug<0.2.7,>=0.2.5, but you have imgaug 0.2.9 which is incompatible.\u001b[0m\n",
            "Successfully installed numpy-1.21.2\n"
          ]
        },
        {
          "output_type": "display_data",
          "data": {
            "application/vnd.colab-display-data+json": {
              "pip_warning": {
                "packages": [
                  "numpy"
                ]
              }
            }
          },
          "metadata": {}
        }
      ]
    },
    {
      "cell_type": "code",
      "metadata": {
        "id": "tS9rNijcAwEJ"
      },
      "source": [
        "import torch\n",
        "from torch import nn\n",
        "from torch.utils.data import TensorDataset, DataLoader\n",
        "from torch.nn import RNN, LSTM\n",
        "import torch.nn.functional as F\n",
        "\n",
        "import pandas as pd\n",
        "import numpy as np\n",
        "import matplotlib.pyplot as plt\n",
        "import seaborn as sns\n",
        "import glob\n",
        "import sys\n",
        "import copy\n",
        "%matplotlib inline"
      ],
      "execution_count": null,
      "outputs": []
    },
    {
      "cell_type": "code",
      "metadata": {
        "colab": {
          "base_uri": "https://localhost:8080/",
          "height": 37
        },
        "id": "JmgOGO5ADTD2",
        "outputId": "c2ce0260-290b-4449-cead-cf250fbc47f3"
      },
      "source": [
        "np.__version__"
      ],
      "execution_count": null,
      "outputs": [
        {
          "output_type": "execute_result",
          "data": {
            "application/vnd.google.colaboratory.intrinsic+json": {
              "type": "string"
            },
            "text/plain": [
              "'1.21.2'"
            ]
          },
          "metadata": {},
          "execution_count": 2
        }
      ]
    },
    {
      "cell_type": "code",
      "metadata": {
        "colab": {
          "base_uri": "https://localhost:8080/"
        },
        "id": "qEKYPAzw2Ld9",
        "outputId": "80d57880-ce9a-4299-b0f4-b79494620909"
      },
      "source": [
        "!nvidia-smi"
      ],
      "execution_count": null,
      "outputs": [
        {
          "output_type": "stream",
          "name": "stdout",
          "text": [
            "Mon Sep 13 14:11:41 2021       \n",
            "+-----------------------------------------------------------------------------+\n",
            "| NVIDIA-SMI 470.63.01    Driver Version: 460.32.03    CUDA Version: 11.2     |\n",
            "|-------------------------------+----------------------+----------------------+\n",
            "| GPU  Name        Persistence-M| Bus-Id        Disp.A | Volatile Uncorr. ECC |\n",
            "| Fan  Temp  Perf  Pwr:Usage/Cap|         Memory-Usage | GPU-Util  Compute M. |\n",
            "|                               |                      |               MIG M. |\n",
            "|===============================+======================+======================|\n",
            "|   0  Tesla K80           Off  | 00000000:00:04.0 Off |                    0 |\n",
            "| N/A   68C    P8    32W / 149W |      0MiB / 11441MiB |      0%      Default |\n",
            "|                               |                      |                  N/A |\n",
            "+-------------------------------+----------------------+----------------------+\n",
            "                                                                               \n",
            "+-----------------------------------------------------------------------------+\n",
            "| Processes:                                                                  |\n",
            "|  GPU   GI   CI        PID   Type   Process name                  GPU Memory |\n",
            "|        ID   ID                                                   Usage      |\n",
            "|=============================================================================|\n",
            "|  No running processes found                                                 |\n",
            "+-----------------------------------------------------------------------------+\n"
          ]
        }
      ]
    },
    {
      "cell_type": "code",
      "metadata": {
        "colab": {
          "base_uri": "https://localhost:8080/"
        },
        "id": "Ti9HQIytA7IP",
        "outputId": "dbda0bed-8518-4fa6-8a7f-345e2e99a6e4"
      },
      "source": [
        "from google.colab import drive\n",
        "drive.mount('/content/drive')"
      ],
      "execution_count": null,
      "outputs": [
        {
          "output_type": "stream",
          "name": "stdout",
          "text": [
            "Mounted at /content/drive\n"
          ]
        }
      ]
    },
    {
      "cell_type": "code",
      "metadata": {
        "colab": {
          "base_uri": "https://localhost:8080/"
        },
        "id": "aznJTvbdB3NO",
        "outputId": "a3ab3c0e-4198-4901-f868-e65584b29ca1"
      },
      "source": [
        "device = torch.device('cuda:0' if torch.cuda.is_available() else 'cpu')\n",
        "device"
      ],
      "execution_count": null,
      "outputs": [
        {
          "output_type": "execute_result",
          "data": {
            "text/plain": [
              "device(type='cuda', index=0)"
            ]
          },
          "metadata": {},
          "execution_count": 5
        }
      ]
    },
    {
      "cell_type": "markdown",
      "metadata": {
        "id": "ixhVEiF_AwEM"
      },
      "source": [
        "# Загрузка и предобработка данных"
      ]
    },
    {
      "cell_type": "code",
      "metadata": {
        "colab": {
          "base_uri": "https://localhost:8080/",
          "height": 428
        },
        "id": "cusWZpu5AwEO",
        "outputId": "022e3dd6-d173-4615-cda7-958aa4397902"
      },
      "source": [
        "%%time\n",
        "#Читаем данные\n",
        "df_list=[]\n",
        "directory='drive/MyDrive/Colab Notebooks/Drilling_error_prediction/'\n",
        "files=glob.glob(directory+\"Data/* глубин*.csv\")\n",
        "print(f'Reading from files:{files}')\n",
        "print(f'{len(files)} total')\n",
        "for file in files:\n",
        "    df_list.append(pd.read_csv(file, index_col=0))"
      ],
      "execution_count": null,
      "outputs": [
        {
          "output_type": "error",
          "ename": "NameError",
          "evalue": "ignored",
          "traceback": [
            "\u001b[0;31m---------------------------------------------------------------------------\u001b[0m",
            "\u001b[0;31mNameError\u001b[0m                                 Traceback (most recent call last)",
            "\u001b[0;32m<ipython-input-1-06dcf704fbb5>\u001b[0m in \u001b[0;36m<module>\u001b[0;34m()\u001b[0m\n\u001b[0;32m----> 1\u001b[0;31m \u001b[0mget_ipython\u001b[0m\u001b[0;34m(\u001b[0m\u001b[0;34m)\u001b[0m\u001b[0;34m.\u001b[0m\u001b[0mrun_cell_magic\u001b[0m\u001b[0;34m(\u001b[0m\u001b[0;34m'time'\u001b[0m\u001b[0;34m,\u001b[0m \u001b[0;34m''\u001b[0m\u001b[0;34m,\u001b[0m \u001b[0;34m'#Читаем данные\\ndf_list=[]\\ndirectory=\\'drive/MyDrive/Colab Notebooks/Drilling_error_prediction/\\'\\nfiles=glob.glob(directory+\"Data/* глубин*.csv\")\\nprint(f\\'Reading from files:{files}\\')\\nprint(f\\'{len(files)} total\\')\\nfor file in files:\\n    df_list.append(pd.read_csv(file, index_col=0))'\u001b[0m\u001b[0;34m)\u001b[0m\u001b[0;34m\u001b[0m\u001b[0;34m\u001b[0m\u001b[0m\n\u001b[0m",
            "\u001b[0;32m/usr/local/lib/python3.7/dist-packages/IPython/core/interactiveshell.py\u001b[0m in \u001b[0;36mrun_cell_magic\u001b[0;34m(self, magic_name, line, cell)\u001b[0m\n\u001b[1;32m   2115\u001b[0m             \u001b[0mmagic_arg_s\u001b[0m \u001b[0;34m=\u001b[0m \u001b[0mself\u001b[0m\u001b[0;34m.\u001b[0m\u001b[0mvar_expand\u001b[0m\u001b[0;34m(\u001b[0m\u001b[0mline\u001b[0m\u001b[0;34m,\u001b[0m \u001b[0mstack_depth\u001b[0m\u001b[0;34m)\u001b[0m\u001b[0;34m\u001b[0m\u001b[0;34m\u001b[0m\u001b[0m\n\u001b[1;32m   2116\u001b[0m             \u001b[0;32mwith\u001b[0m \u001b[0mself\u001b[0m\u001b[0;34m.\u001b[0m\u001b[0mbuiltin_trap\u001b[0m\u001b[0;34m:\u001b[0m\u001b[0;34m\u001b[0m\u001b[0;34m\u001b[0m\u001b[0m\n\u001b[0;32m-> 2117\u001b[0;31m                 \u001b[0mresult\u001b[0m \u001b[0;34m=\u001b[0m \u001b[0mfn\u001b[0m\u001b[0;34m(\u001b[0m\u001b[0mmagic_arg_s\u001b[0m\u001b[0;34m,\u001b[0m \u001b[0mcell\u001b[0m\u001b[0;34m)\u001b[0m\u001b[0;34m\u001b[0m\u001b[0;34m\u001b[0m\u001b[0m\n\u001b[0m\u001b[1;32m   2118\u001b[0m             \u001b[0;32mreturn\u001b[0m \u001b[0mresult\u001b[0m\u001b[0;34m\u001b[0m\u001b[0;34m\u001b[0m\u001b[0m\n\u001b[1;32m   2119\u001b[0m \u001b[0;34m\u001b[0m\u001b[0m\n",
            "\u001b[0;32m<decorator-gen-53>\u001b[0m in \u001b[0;36mtime\u001b[0;34m(self, line, cell, local_ns)\u001b[0m\n",
            "\u001b[0;32m/usr/local/lib/python3.7/dist-packages/IPython/core/magic.py\u001b[0m in \u001b[0;36m<lambda>\u001b[0;34m(f, *a, **k)\u001b[0m\n\u001b[1;32m    186\u001b[0m     \u001b[0;31m# but it's overkill for just that one bit of state.\u001b[0m\u001b[0;34m\u001b[0m\u001b[0;34m\u001b[0m\u001b[0;34m\u001b[0m\u001b[0m\n\u001b[1;32m    187\u001b[0m     \u001b[0;32mdef\u001b[0m \u001b[0mmagic_deco\u001b[0m\u001b[0;34m(\u001b[0m\u001b[0marg\u001b[0m\u001b[0;34m)\u001b[0m\u001b[0;34m:\u001b[0m\u001b[0;34m\u001b[0m\u001b[0;34m\u001b[0m\u001b[0m\n\u001b[0;32m--> 188\u001b[0;31m         \u001b[0mcall\u001b[0m \u001b[0;34m=\u001b[0m \u001b[0;32mlambda\u001b[0m \u001b[0mf\u001b[0m\u001b[0;34m,\u001b[0m \u001b[0;34m*\u001b[0m\u001b[0ma\u001b[0m\u001b[0;34m,\u001b[0m \u001b[0;34m**\u001b[0m\u001b[0mk\u001b[0m\u001b[0;34m:\u001b[0m \u001b[0mf\u001b[0m\u001b[0;34m(\u001b[0m\u001b[0;34m*\u001b[0m\u001b[0ma\u001b[0m\u001b[0;34m,\u001b[0m \u001b[0;34m**\u001b[0m\u001b[0mk\u001b[0m\u001b[0;34m)\u001b[0m\u001b[0;34m\u001b[0m\u001b[0;34m\u001b[0m\u001b[0m\n\u001b[0m\u001b[1;32m    189\u001b[0m \u001b[0;34m\u001b[0m\u001b[0m\n\u001b[1;32m    190\u001b[0m         \u001b[0;32mif\u001b[0m \u001b[0mcallable\u001b[0m\u001b[0;34m(\u001b[0m\u001b[0marg\u001b[0m\u001b[0;34m)\u001b[0m\u001b[0;34m:\u001b[0m\u001b[0;34m\u001b[0m\u001b[0;34m\u001b[0m\u001b[0m\n",
            "\u001b[0;32m/usr/local/lib/python3.7/dist-packages/IPython/core/magics/execution.py\u001b[0m in \u001b[0;36mtime\u001b[0;34m(self, line, cell, local_ns)\u001b[0m\n\u001b[1;32m   1191\u001b[0m         \u001b[0;32melse\u001b[0m\u001b[0;34m:\u001b[0m\u001b[0;34m\u001b[0m\u001b[0;34m\u001b[0m\u001b[0m\n\u001b[1;32m   1192\u001b[0m             \u001b[0mst\u001b[0m \u001b[0;34m=\u001b[0m \u001b[0mclock2\u001b[0m\u001b[0;34m(\u001b[0m\u001b[0;34m)\u001b[0m\u001b[0;34m\u001b[0m\u001b[0;34m\u001b[0m\u001b[0m\n\u001b[0;32m-> 1193\u001b[0;31m             \u001b[0mexec\u001b[0m\u001b[0;34m(\u001b[0m\u001b[0mcode\u001b[0m\u001b[0;34m,\u001b[0m \u001b[0mglob\u001b[0m\u001b[0;34m,\u001b[0m \u001b[0mlocal_ns\u001b[0m\u001b[0;34m)\u001b[0m\u001b[0;34m\u001b[0m\u001b[0;34m\u001b[0m\u001b[0m\n\u001b[0m\u001b[1;32m   1194\u001b[0m             \u001b[0mend\u001b[0m \u001b[0;34m=\u001b[0m \u001b[0mclock2\u001b[0m\u001b[0;34m(\u001b[0m\u001b[0;34m)\u001b[0m\u001b[0;34m\u001b[0m\u001b[0;34m\u001b[0m\u001b[0m\n\u001b[1;32m   1195\u001b[0m             \u001b[0mout\u001b[0m \u001b[0;34m=\u001b[0m \u001b[0;32mNone\u001b[0m\u001b[0;34m\u001b[0m\u001b[0;34m\u001b[0m\u001b[0m\n",
            "\u001b[0;32m<timed exec>\u001b[0m in \u001b[0;36m<module>\u001b[0;34m()\u001b[0m\n",
            "\u001b[0;31mNameError\u001b[0m: name 'glob' is not defined"
          ]
        }
      ]
    },
    {
      "cell_type": "code",
      "metadata": {
        "id": "22rbm0I-jHcZ"
      },
      "source": [
        "#Масштабы\n",
        "scales=pd.read_excel(directory+'Масштабы.xlsx')\n",
        "#Коды литологии и стратиграфии\n",
        "litology_code=pd.read_csv(directory+'Литология_коды.csv', header=1, delimiter=';', usecols=[0,1])\n",
        "stratigraphy_code=pd.read_csv(directory+'Стратиграфия_коды.csv', header=1, delimiter=';', usecols=[0,1])"
      ],
      "execution_count": null,
      "outputs": []
    },
    {
      "cell_type": "code",
      "metadata": {
        "id": "ULIQYw-OjVKM"
      },
      "source": [
        "#Преобразуем типы и вставляем 0 в колонку Код осложнений\n",
        "for ind in range(len(df_list)):\n",
        "    df_list[ind]['Код осложнений'].fillna(value=0, inplace=True)\n",
        "    df_list[ind]=df_list[ind].astype(np.float32, copy=False) \n",
        "    df_list[ind]=df_list[ind].astype({'Код Литологии': np.uint16,'Код осложнений': np.uint16, \n",
        "                                      'Код стратиграфии': np.uint16}, copy=False) "
      ],
      "execution_count": null,
      "outputs": []
    },
    {
      "cell_type": "code",
      "metadata": {
        "id": "nW8NbjSrAwEQ"
      },
      "source": [
        "#Заменяем значение -999.25 на NaN\n",
        "for df in df_list:\n",
        "    df.replace(-999.25, np.nan, inplace=True)"
      ],
      "execution_count": null,
      "outputs": []
    },
    {
      "cell_type": "code",
      "metadata": {
        "id": "li3aLWIWAwEQ"
      },
      "source": [
        "#Выбрасываем колонки, в которых часто встречаются пустые значения\n",
        "for df in df_list:\n",
        "    df.drop(columns='Код горизонта маркера', inplace=True)\n",
        "    df.drop(columns='БПР 1', inplace=True)\n",
        "    df.drop(columns='ЦСГО 2', inplace=True)\n",
        "    df.drop(columns='Расход на вых.', inplace=True)\n",
        "    df.drop(columns=['С1', 'С2', 'С3', 'С4', 'C5', 'iС4', 'IC5'], inplace=True)\n",
        "    if 'БПР 2' in df:\n",
        "        df.drop(columns='БПР 2', inplace=True)\n",
        "    if 'Долив 2' in df:\n",
        "        df.drop(columns='Долив 2', inplace=True)"
      ],
      "execution_count": null,
      "outputs": []
    },
    {
      "cell_type": "code",
      "metadata": {
        "id": "5oGMym6XAwES"
      },
      "source": [
        "for df, file in zip(df_list, files):\n",
        "    rows_with_NA=df.isna().any(axis=1).sum()\n",
        "    print(f'In file {file} number of NaN values: {rows_with_NA},\\\n",
        "part of NaN values: {rows_with_NA/len(df)*100:.2f} %\\n')"
      ],
      "execution_count": null,
      "outputs": []
    },
    {
      "cell_type": "code",
      "metadata": {
        "id": "UzLpEMZbjuuD"
      },
      "source": [
        "#Выбрасываем строки с отсутствующими значениями\n",
        "for df in df_list:\n",
        "    df.dropna(inplace=True)"
      ],
      "execution_count": null,
      "outputs": []
    },
    {
      "cell_type": "code",
      "metadata": {
        "id": "DPC-24WBOucC"
      },
      "source": [
        "#Зануляем все что меньше 0\n",
        "for ind in range(len(df_list)):\n",
        "    df_list[ind][(df_list[ind]<0)]=0"
      ],
      "execution_count": null,
      "outputs": []
    },
    {
      "cell_type": "code",
      "metadata": {
        "id": "2Yhq75zsOvoK"
      },
      "source": [
        "#Мин мах нормализация данных в соответствии с масштабом из файла \"Масштабы.xlsx\"\n",
        "for df in df_list:\n",
        "    for column in df.columns:\n",
        "        if not scales[column].isnull().all():\n",
        "            max_value = scales[column].loc[2]\n",
        "            min_value = scales[column].loc[1]\n",
        "            df[column] = (df[column] - min_value) / (max_value - min_value)"
      ],
      "execution_count": null,
      "outputs": []
    },
    {
      "cell_type": "code",
      "metadata": {
        "id": "iEEdvo-7R29-"
      },
      "source": [
        "min_depth=scales['Глубина'].loc[1]\n",
        "max_depth=scales['Глубина'].loc[2]"
      ],
      "execution_count": null,
      "outputs": []
    },
    {
      "cell_type": "code",
      "metadata": {
        "id": "8MDjFMnZAwES"
      },
      "source": [
        "df_list[0].head()"
      ],
      "execution_count": null,
      "outputs": []
    },
    {
      "cell_type": "markdown",
      "metadata": {
        "id": "BD0NgiFrSG3I"
      },
      "source": [
        "# Сортировка параметров по корреляции"
      ]
    },
    {
      "cell_type": "code",
      "metadata": {
        "id": "qpxZJ5eqSGJk"
      },
      "source": [
        "correlation=[]\n",
        "for df in df_list:\n",
        "    correlation.append(df.corr())\n",
        "total_df=pd.concat(df_list)"
      ],
      "execution_count": null,
      "outputs": []
    },
    {
      "cell_type": "code",
      "metadata": {
        "id": "0KnKV7JoSUxG"
      },
      "source": [
        "sorted_parameters=total_df.corr()['Код осложнений'].abs().sort_values()\n",
        "#.drop(index=[],inplace=True)"
      ],
      "execution_count": null,
      "outputs": []
    },
    {
      "cell_type": "code",
      "metadata": {
        "id": "zZxDEn_ZSkGQ"
      },
      "source": [
        "sorted_parameters.drop(index=['Глубина', 'Код стратиграфии', 'Код Литологии','Код осложнений'],\n",
        "                      inplace=True)\n",
        "sorted_parameters=sorted_parameters.index[::-1]"
      ],
      "execution_count": null,
      "outputs": []
    },
    {
      "cell_type": "code",
      "metadata": {
        "colab": {
          "base_uri": "https://localhost:8080/"
        },
        "id": "qoOlR9G8Sz6q",
        "outputId": "4632e28b-1345-4a1d-ddeb-97a52cb4bb6f"
      },
      "source": [
        "sorted_parameters"
      ],
      "execution_count": null,
      "outputs": [
        {
          "output_type": "execute_result",
          "data": {
            "text/plain": [
              "Index(['Положение долота', 'Диаметр долота', 'Диаметр скважины', 'ЦСГО 1',\n",
              "       'Долив', 'Обороты рот', 'Сумма актив. емкостей', 'Мех. скорость ср',\n",
              "       'Рабочая емк. 1', 'Температура вх', 'Рабочая емк. 2', 'Вес на кр',\n",
              "       'Давление', 'Положение кр', 'Плотность на вх', 'Плотность на вых',\n",
              "       'Нагр. На долото', 'Температура вых', 'Расход на вх'],\n",
              "      dtype='object')"
            ]
          },
          "metadata": {},
          "execution_count": 20
        }
      ]
    },
    {
      "cell_type": "markdown",
      "metadata": {
        "id": "3uf4xSUsAwEY"
      },
      "source": [
        "# Формирование датасета из данных"
      ]
    },
    {
      "cell_type": "code",
      "metadata": {
        "id": "e_AvhKq6AwEZ"
      },
      "source": [
        "from sklearn.preprocessing import OneHotEncoder, LabelEncoder\n",
        "import random"
      ],
      "execution_count": null,
      "outputs": []
    },
    {
      "cell_type": "code",
      "metadata": {
        "id": "6-LOcmA6Td_Z"
      },
      "source": [
        "def random_sampling(X_list, Y_list, n_test):\n",
        "  random.seed(777)\n",
        "  test_ind=random.sample(range(len(X_list)), n_test)\n",
        "  length_of_train_dataset=0\n",
        "  length_of_test_dataset=0\n",
        "  for ind, Y in enumerate(Y_list):\n",
        "    if ind in test_ind:\n",
        "      length_of_test_dataset+=len(Y)\n",
        "    else:\n",
        "      length_of_train_dataset+=len(Y)\n",
        "  X_dataset_shape=X_list[0].shape[1:]\n",
        "  train_X_dataset_shape=tuple([length_of_train_dataset])+X_dataset_shape\n",
        "  test_X_dataset_shape=tuple([length_of_test_dataset])+X_dataset_shape\n",
        "\n",
        "  Y_dataset_shape=Y_list[0].shape[1:]\n",
        "  train_Y_dataset_shape=tuple([length_of_train_dataset])+Y_dataset_shape\n",
        "  test_Y_dataset_shape=tuple([length_of_test_dataset])+Y_dataset_shape\n",
        "\n",
        "  X_train=np.zeros(train_X_dataset_shape, dtype=np.float16)\n",
        "  X_test=np.zeros(test_X_dataset_shape, dtype=np.float16)\n",
        "  Y_train=np.zeros(train_Y_dataset_shape, dtype=np.float16)\n",
        "  Y_test=np.zeros(test_Y_dataset_shape, dtype=np.float16)\n",
        "\n",
        "  print(f'Indices for test dataset: {test_ind}')\n",
        "  current_train_ind=0\n",
        "  current_test_ind=0\n",
        "  for ind, (X, Y) in enumerate(zip(X_list, Y_list)):\n",
        "\n",
        "    if ind in test_ind:\n",
        "      X_test[current_test_ind:current_test_ind+len(X)]=X\n",
        "      Y_test[current_test_ind:current_test_ind+len(Y)]=Y\n",
        "      current_test_ind+=len(Y)\n",
        "\n",
        "    else:\n",
        "      X_train[current_train_ind:current_train_ind+len(X)]=X\n",
        "      Y_train[current_train_ind:current_train_ind+len(Y)]=Y\n",
        "      current_train_ind+=len(Y)\n",
        "  return X_train, Y_train, X_test, Y_test, test_ind"
      ],
      "execution_count": null,
      "outputs": []
    },
    {
      "cell_type": "code",
      "metadata": {
        "colab": {
          "base_uri": "https://localhost:8080/"
        },
        "id": "ifF6QELnAwEZ",
        "outputId": "b60dbb05-7bcf-4311-d4d5-98086553e610"
      },
      "source": [
        "#В файлах встречаются коды литологии 12, 16, 113\n",
        "#Встречаются стратиграфии 30\n",
        "lit_codes=np.sort(np.hstack([litology_code['Код литологии'].values,12,16,113, 64537]))\n",
        "print(f\"Количество литологий: {len(lit_codes)}\")\n",
        "strat_codes=np.sort(np.hstack([stratigraphy_code['Код стратиграфии'].values])).reshape(1,-1)\n",
        "print(f\"Количество стратиграфий: {len(strat_codes[0])}\")"
      ],
      "execution_count": null,
      "outputs": [
        {
          "output_type": "stream",
          "name": "stdout",
          "text": [
            "Количество литологий: 20\n",
            "Количество стратиграфий: 22\n"
          ]
        }
      ]
    },
    {
      "cell_type": "code",
      "metadata": {
        "id": "BMlkjaS9AwEa"
      },
      "source": [
        "encoder_lit = OneHotEncoder(categories=lit_codes.reshape(1,-1))\n",
        "encoder_strat = OneHotEncoder(categories=strat_codes)\n",
        "label_encoder=LabelEncoder()"
      ],
      "execution_count": null,
      "outputs": []
    },
    {
      "cell_type": "code",
      "metadata": {
        "colab": {
          "base_uri": "https://localhost:8080/"
        },
        "id": "gEPYSD-6T2pF",
        "outputId": "7ca6d083-04c5-406f-8264-cdf195815044"
      },
      "source": [
        "number_of_sorted_parameters=-1\n",
        "columns_to_use=['Глубина']+sorted_parameters[:number_of_sorted_parameters].values.tolist()\n",
        "print(columns_to_use)\n",
        "print(f\"Количество используемых параметров {len(columns_to_use)}\")"
      ],
      "execution_count": null,
      "outputs": [
        {
          "output_type": "stream",
          "name": "stdout",
          "text": [
            "['Глубина', 'Положение долота', 'Диаметр долота', 'Диаметр скважины', 'ЦСГО 1', 'Долив', 'Обороты рот', 'Сумма актив. емкостей', 'Мех. скорость ср', 'Рабочая емк. 1', 'Температура вх', 'Рабочая емк. 2', 'Вес на кр', 'Давление', 'Положение кр', 'Плотность на вх', 'Плотность на вых', 'Нагр. На долото', 'Температура вых']\n",
            "Количество используемых параметров 19\n"
          ]
        }
      ]
    },
    {
      "cell_type": "code",
      "metadata": {
        "id": "d43Y_da6c2JY"
      },
      "source": [
        "#Если нужно, то заменяем некоторые коды литологии и стратиграфии\n",
        "for df in df_list:\n",
        "  df.replace({\"Код стратиграфии\": {30: 31}}, inplace=True)"
      ],
      "execution_count": null,
      "outputs": []
    },
    {
      "cell_type": "code",
      "metadata": {
        "id": "WQKefNPXAwEa",
        "colab": {
          "base_uri": "https://localhost:8080/"
        },
        "outputId": "09369990-b94e-4a68-bbb2-cfcef679a7dc"
      },
      "source": [
        "%%capture --no-stdout\n",
        "#Перевод всех данных в двумерный массив и one-hot encoding для столбцов \n",
        "#кодов литологии и кодов стратиграфии\n",
        "total_X=[]\n",
        "total_Y=[]\n",
        "\n",
        "for ind,df in enumerate(df_list):\n",
        "    if len(df)>0:\n",
        "        print(ind)\n",
        "        #X=df.drop(columns=['Код Литологии', 'Код осложнений', 'Код стратиграфии']).values\n",
        "        X=df[columns_to_use].values\n",
        "        #Y=df['Код осложнений'].values\n",
        "        Y=(df['Код осложнений'].values>0).astype(int)\n",
        "        encoded_X_lit=encoder_lit.fit_transform(df['Код Литологии'].values.reshape(-1,1)).toarray()\n",
        "        encoded_X_strat=encoder_strat.fit_transform(df['Код стратиграфии'].values.reshape(-1,1)).toarray()\n",
        "        #total_X.append(np.hstack([X, encoded_X_lit, encoded_X_strat]))\n",
        "        total_X.append(np.hstack([X, encoded_X_strat]))\n",
        "        total_Y.append(label_encoder.fit_transform(Y))\n",
        "    else:\n",
        "        print('0 samples in '+str(ind)+' well')"
      ],
      "execution_count": null,
      "outputs": [
        {
          "output_type": "stream",
          "name": "stdout",
          "text": [
            "0\n",
            "1\n",
            "2\n",
            "3\n",
            "4\n",
            "5\n",
            "6\n",
            "7\n",
            "8\n",
            "9\n",
            "10\n",
            "11\n",
            "12\n",
            "13\n",
            "14\n",
            "15\n",
            "16\n",
            "17\n",
            "18\n",
            "19\n",
            "20\n",
            "21\n",
            "22\n",
            "23\n",
            "24\n",
            "25\n",
            "26\n",
            "27\n",
            "28\n",
            "29\n",
            "30\n"
          ]
        }
      ]
    },
    {
      "cell_type": "code",
      "metadata": {
        "colab": {
          "base_uri": "https://localhost:8080/"
        },
        "id": "8BoyprpcAwEa",
        "outputId": "3c7dc6bd-d984-4253-e916-68621a989382"
      },
      "source": [
        "print(f'Total amount of wells: {len(total_X)}')"
      ],
      "execution_count": null,
      "outputs": [
        {
          "output_type": "stream",
          "name": "stdout",
          "text": [
            "Total amount of wells: 31\n"
          ]
        }
      ]
    },
    {
      "cell_type": "code",
      "metadata": {
        "colab": {
          "base_uri": "https://localhost:8080/"
        },
        "id": "aT_PVVjTZGvM",
        "outputId": "7bd58919-2b6e-42cb-b750-e2a4b2c80a46"
      },
      "source": [
        "label_encoder.classes_"
      ],
      "execution_count": null,
      "outputs": [
        {
          "output_type": "execute_result",
          "data": {
            "text/plain": [
              "array([0, 1])"
            ]
          },
          "metadata": {},
          "execution_count": 29
        }
      ]
    },
    {
      "cell_type": "markdown",
      "metadata": {
        "id": "UkaYCuJEbAXd"
      },
      "source": [
        "# Объединение данных по глубине"
      ]
    },
    {
      "cell_type": "code",
      "metadata": {
        "id": "XJayyPrRAwEb"
      },
      "source": [
        "%%capture --no-stdout\n",
        "#Объединение данных в группы по number_of_depth_points точек\n",
        "number_of_depth_points=50\n",
        "n_steps_forward=10\n",
        "total_X_grouped=[]\n",
        "total_Y_grouped=[]\n",
        "for X in total_X:\n",
        "    \n",
        "    grouped_X=np.lib.stride_tricks.sliding_window_view(X,(number_of_depth_points,X.shape[1]))[:-n_steps_forward,0]\n",
        "    total_X_grouped.append(grouped_X)\n",
        "for Y in total_Y:\n",
        "    grouped_Y=np.lib.stride_tricks.sliding_window_view(Y[number_of_depth_points:],(n_steps_forward,))\n",
        "    total_Y_grouped.append(grouped_Y)\n",
        "    "
      ],
      "execution_count": null,
      "outputs": []
    },
    {
      "cell_type": "code",
      "metadata": {
        "colab": {
          "base_uri": "https://localhost:8080/"
        },
        "id": "sbJftqOkXwPo",
        "outputId": "95f257a9-00c0-44a0-ab9a-3cc2f474a551"
      },
      "source": [
        "n_samples_in_test_dataset=3\n",
        "X_train, Y_train , X_test, Y_test, random_samples_ind= random_sampling(total_X_grouped, \n",
        "                                                total_Y_grouped, n_samples_in_test_dataset)\n",
        "print(X_train.shape)\n",
        "print(X_test.shape)"
      ],
      "execution_count": null,
      "outputs": [
        {
          "output_type": "stream",
          "name": "stdout",
          "text": [
            "Indices for test dataset: [7, 14, 11]\n",
            "(871641, 50, 41)\n",
            "(99880, 50, 41)\n"
          ]
        }
      ]
    },
    {
      "cell_type": "code",
      "metadata": {
        "colab": {
          "base_uri": "https://localhost:8080/"
        },
        "id": "t5D_r6XLZo2K",
        "outputId": "faff17ce-0984-492d-ddcf-a1c216654680"
      },
      "source": [
        "print(Y_train.shape)\n",
        "print(Y_test.shape)"
      ],
      "execution_count": null,
      "outputs": [
        {
          "output_type": "stream",
          "name": "stdout",
          "text": [
            "(871641, 10)\n",
            "(99880, 10)\n"
          ]
        }
      ]
    },
    {
      "cell_type": "code",
      "metadata": {
        "id": "9hXUwb283Z9g"
      },
      "source": [
        "def Downsampling(X, Y, error_ratio= 0.1):\n",
        "  ind_of_0=np.argwhere(np.sum(Y, axis=1)==0).flatten().tolist()\n",
        "  \n",
        "  ind_of_1=np.argwhere(np.sum(Y, axis=1)>0).flatten().tolist()\n",
        "  \n",
        "  n_samples= min(int(len(ind_of_1)*(1/error_ratio-1)), len(ind_of_0))\n",
        "  \n",
        "  random.seed(777)\n",
        "  zero_ind=random.sample(ind_of_0, n_samples)\n",
        "  \n",
        "  random.seed(777)\n",
        "  downsampling_idx = ind_of_1+zero_ind\n",
        "  random.shuffle(downsampling_idx)\n",
        "  \n",
        "  return X[downsampling_idx], Y[downsampling_idx]"
      ],
      "execution_count": null,
      "outputs": []
    },
    {
      "cell_type": "code",
      "metadata": {
        "colab": {
          "base_uri": "https://localhost:8080/"
        },
        "id": "9irgZgc97HXK",
        "outputId": "d2b92b54-12c4-4695-f0c2-4a225c66f366"
      },
      "source": [
        "%%time\n",
        "X_train,Y_train = Downsampling(X_train, Y_train,  error_ratio= 0.1)"
      ],
      "execution_count": null,
      "outputs": [
        {
          "output_type": "stream",
          "name": "stdout",
          "text": [
            "CPU times: user 2.43 s, sys: 712 ms, total: 3.14 s\n",
            "Wall time: 3.14 s\n"
          ]
        }
      ]
    },
    {
      "cell_type": "code",
      "metadata": {
        "colab": {
          "base_uri": "https://localhost:8080/"
        },
        "id": "a5D5PYF_7LKo",
        "outputId": "15fdb492-c66b-4c76-9517-3f88391b2b53"
      },
      "source": [
        "print(X_train.shape)\n",
        "print(Y_train.shape)"
      ],
      "execution_count": null,
      "outputs": [
        {
          "output_type": "stream",
          "name": "stdout",
          "text": [
            "(666350, 50, 41)\n",
            "(666350, 10)\n"
          ]
        }
      ]
    },
    {
      "cell_type": "markdown",
      "metadata": {
        "id": "ITR6IVCNAwEb"
      },
      "source": [
        "# Настройка RNN"
      ]
    },
    {
      "cell_type": "code",
      "metadata": {
        "id": "9ptqx3vrbKvV"
      },
      "source": [
        "#рекурентная сеть\n",
        "class GRU_encoder(nn.Module):\n",
        "    def __init__(self, input_size, hidden_dim, output_size, num_layers=1):\n",
        "        super().__init__()\n",
        "\n",
        "        self.rnn = nn.GRU(input_size, hidden_size = hidden_dim, num_layers = num_layers, batch_first=True)\n",
        "        #self.fc = nn.Linear(hidden_dim, output_size)\n",
        "        self.out_size=output_size\n",
        "    \n",
        "    def forward(self, x):\n",
        "        batch_size = x.size(0)\n",
        "        #print(x.size())\n",
        "        #Инициализация скрытого состояния\n",
        "        hidden_0 = torch.zeros((self.rnn.num_layers, batch_size, self.rnn.hidden_size), device=device) \n",
        "        #cell_0 = torch.zeros((self.lstm.num_layers, batch_size, self.lstm.hidden_size), device=device)\n",
        "        #print(hidden_0.size())\n",
        "        # Слой LSTM\n",
        "        \n",
        "        rnn_out, hidden = self.rnn(x, hidden_0)\n",
        "         \n",
        "        #print(hidden.size())\n",
        "        #Полносвязный слой\n",
        "        #out = out.contiguous().view(-1, self.rnn.hidden_size)\n",
        "        #out = hidden[0][-1]\n",
        "        #out = F.relu(self.fc_intermediate(out))\n",
        "        #out = self.fc(out)\n",
        "        return rnn_out, hidden\n",
        "        #return out.view(-1, self.out_size), out\n",
        "\n",
        "class GRU_decoder(nn.Module):\n",
        "    def __init__(self, input_size, hidden_dim, n_classes, n_steps_forward):\n",
        "      super().__init__()\n",
        "\n",
        "      self.rnn_cell = nn.GRUCell(input_size, hidden_size = hidden_dim)\n",
        "      self.fc= nn.Linear(hidden_dim, n_classes)\n",
        "      self.n_steps=n_steps_forward\n",
        "\n",
        "    def forward(self,x, encoder_hidden_state):\n",
        "\n",
        "      current_hidden_state=encoder_hidden_state\n",
        "      #print(encoder_hidden_state.shape)\n",
        "      hiddens=[]\n",
        "      outs=[]\n",
        "      for _ in range(self.n_steps):\n",
        "        hidden = self.rnn_cell(x, current_hidden_state)\n",
        "        hiddens.append(hidden)\n",
        "        out=self.fc(hidden)\n",
        "        outs.append(out)\n",
        "      return outs, hiddens \n",
        "\n",
        "class GRU_seq2seq(nn.Module):\n",
        "    def __init__(self, encoder, decoder, output_size):\n",
        "      super().__init__()\n",
        "\n",
        "      self.encoder=encoder\n",
        "      self.decoder=decoder\n",
        "      self.out_size=output_size\n",
        "\n",
        "    def forward(self,x):\n",
        "      _,encoder_hidden=self.encoder.forward(x)\n",
        "      \n",
        "      #print(encoder_hidden.shape)\n",
        "      outputs,_=self.decoder.forward(x[:,-1],encoder_hidden[0])\n",
        "      return outputs"
      ],
      "execution_count": null,
      "outputs": []
    },
    {
      "cell_type": "code",
      "metadata": {
        "id": "zfz6U-agbaEr"
      },
      "source": [
        "def train(model, loss_function, optimizer , epochs =10, device='cpu'):\n",
        "    train_loss_hist = []\n",
        "    test_loss_hist=[]\n",
        "    train_acc_hist=[]\n",
        "    test_acc_hist=[]\n",
        "    best_acc=0\n",
        "    for epoch in range(epochs):\n",
        "        ep_loss = 0\n",
        "        for batch, labels in trainloader: # get bacth \n",
        "            batch=batch.to(device)\n",
        "            labels=labels.to(device)        \n",
        "            optimizer.zero_grad()\n",
        "            \n",
        "            outputs = model(batch) # call forward\n",
        "            \n",
        "            loss=0\n",
        "            for ind, output in enumerate(outputs):\n",
        "                loss+=(ind+1)/5*loss_function(output, labels[:,ind].long())\n",
        "            #loss = loss_function(outputs, labels.long()) # calculate loss\n",
        "            loss.backward() # calculate gradients\n",
        "            optimizer.step() # performs a single optimization step (parameter update).\n",
        "            ep_loss += loss.item()\n",
        "            \n",
        "        train_loss_hist.append(ep_loss /len(trainloader))\n",
        "        train_errors_acc,train_acc= validate(model, trainloader, device)\n",
        "        train_acc_hist.append(train_errors_acc)\n",
        "\n",
        "        test_errors_acc,test_acc= validate(model, testloader,device)\n",
        "        test_acc_hist.append(test_errors_acc)\n",
        "        ep_loss = 0\n",
        "        with torch.no_grad(): \n",
        "            for batch, labels in testloader:\n",
        "                batch=batch.to(device)\n",
        "                labels=labels.to(device)\n",
        "                outputs = model(batch)\n",
        "                loss=0\n",
        "                for ind, output in enumerate(outputs):\n",
        "                  loss+=loss_function(output, labels[:,ind].long())  \n",
        "                #loss = loss_function(outputs, labels.long())\n",
        "                ep_loss += loss.item()\n",
        "        test_loss_hist.append(ep_loss /len(testloader))\n",
        "\n",
        "        if (test_acc[0]+test_errors_acc[0]>best_acc):\n",
        "            best_acc=test_acc[0]+test_errors_acc[0]\n",
        "            best_model= copy.deepcopy(model)\n",
        "        print(f\"Epoch={epoch} train loss={train_loss_hist[epoch]:.4}, \\\n",
        "test loss={test_loss_hist[epoch]:.4}, train accuracy={train_acc[0]:.4f},{train_acc.mean():.4f} \\\n",
        "train error accuracy={train_errors_acc[0]:.4f}, test accuracy={test_acc[0]:.4f},{test_acc.mean():.4f} \\\n",
        "test error accuracy={test_errors_acc[0]:.4f}\" )\n",
        "        \n",
        "    return train_loss_hist, train_acc_hist, test_loss_hist, test_acc_hist, best_model\n",
        "\n",
        "def validate(model,testloader, device):\n",
        "    n_outputs = model.decoder.n_steps\n",
        "    correct_answers = np.zeros(n_outputs)\n",
        "    correctly_predicted_errors = np.zeros(n_outputs)\n",
        "    total_samples=np.zeros(n_outputs)\n",
        "    total_errors=np.zeros(n_outputs)\n",
        "    \n",
        "    with torch.no_grad():\n",
        "        for batch, labels in testloader:\n",
        "            batch = batch.to(device)\n",
        "            labels = labels.to(device)\n",
        "            outputs = model(batch)\n",
        "            for ind, output in enumerate(outputs):\n",
        "              label=labels[:,ind]\n",
        "              _, predicted = torch.max(output.data, 1)\n",
        "              #print(labels>0)\n",
        "              correct_answers[ind]=correct_answers[ind]+(predicted == label).sum().item()\n",
        "              correctly_predicted_errors[ind]=correctly_predicted_errors[ind]+((predicted == label) & (label>0)).sum().item()\n",
        "              total_samples[ind]=total_samples[ind]+len(label)\n",
        "              total_errors[ind]=total_errors[ind] + len(label[label>0])\n",
        "    return correctly_predicted_errors/total_errors, correct_answers/total_samples"
      ],
      "execution_count": null,
      "outputs": []
    },
    {
      "cell_type": "markdown",
      "metadata": {
        "id": "kKb9G3kPcNlX"
      },
      "source": [
        "# Тренировка сети"
      ]
    },
    {
      "cell_type": "code",
      "metadata": {
        "id": "0sV5gZyScMCj"
      },
      "source": [
        "X_train=torch.Tensor(X_train)\n",
        "Y_train=torch.Tensor(Y_train)\n",
        "\n",
        "X_test=torch.Tensor(X_test)\n",
        "Y_test=torch.Tensor(Y_test)\n",
        "\n",
        "train_dataset=TensorDataset(X_train,Y_train)\n",
        "test_dataset=TensorDataset(X_test,Y_test)"
      ],
      "execution_count": null,
      "outputs": []
    },
    {
      "cell_type": "code",
      "metadata": {
        "id": "eFvhdWFScTM7"
      },
      "source": [
        "#batch_size=8192\n",
        "batch_size=16384\n",
        "\n",
        "trainloader=torch.utils.data.DataLoader(train_dataset, batch_size=batch_size)\n",
        "testloader=torch.utils.data.DataLoader(test_dataset, batch_size=batch_size)"
      ],
      "execution_count": null,
      "outputs": []
    },
    {
      "cell_type": "code",
      "metadata": {
        "id": "i3n5VCWvcmny"
      },
      "source": [
        "input_size= X_train.shape[-1]\n",
        "hidden_size=10\n",
        "output_size=len(label_encoder.classes_)"
      ],
      "execution_count": null,
      "outputs": []
    },
    {
      "cell_type": "code",
      "metadata": {
        "colab": {
          "base_uri": "https://localhost:8080/"
        },
        "id": "2fQYddNScqer",
        "outputId": "3d106ef5-3af3-4644-f545-bcb3484a5f8a"
      },
      "source": [
        "encoder=GRU_encoder(input_size, hidden_size, output_size)\n",
        "decoder=GRU_decoder(input_size, hidden_size, output_size, n_steps_forward)\n",
        "model=GRU_seq2seq(encoder,decoder, output_size)\n",
        "model\n",
        "model.to(device)"
      ],
      "execution_count": null,
      "outputs": [
        {
          "output_type": "execute_result",
          "data": {
            "text/plain": [
              "GRU_seq2seq(\n",
              "  (encoder): GRU_encoder(\n",
              "    (rnn): GRU(41, 10, batch_first=True)\n",
              "  )\n",
              "  (decoder): GRU_decoder(\n",
              "    (rnn_cell): GRUCell(41, 10)\n",
              "    (fc): Linear(in_features=10, out_features=2, bias=True)\n",
              "  )\n",
              ")"
            ]
          },
          "metadata": {},
          "execution_count": 61
        }
      ]
    },
    {
      "cell_type": "code",
      "metadata": {
        "colab": {
          "base_uri": "https://localhost:8080/"
        },
        "id": "PQa03QqzxUC0",
        "outputId": "0b518d03-a8bc-4deb-e25e-7609fa779b88"
      },
      "source": [
        "_,counts=np.unique(Y_train[:,0], return_counts=True)\n",
        "weights=counts.min()/counts\n",
        "counts"
      ],
      "execution_count": null,
      "outputs": [
        {
          "output_type": "execute_result",
          "data": {
            "text/plain": [
              "array([601882,  64468])"
            ]
          },
          "metadata": {},
          "execution_count": 62
        }
      ]
    },
    {
      "cell_type": "code",
      "metadata": {
        "colab": {
          "base_uri": "https://localhost:8080/"
        },
        "id": "5AxkSyI6xVR-",
        "outputId": "07eb3196-572d-4d21-dae8-a6a35f44c3dd"
      },
      "source": [
        "loss_function = nn.CrossEntropyLoss(weight=torch.Tensor(weights).to(device))\n",
        "optimizer = torch.optim.AdamW(model.parameters(), lr=0.001, weight_decay=5e-1)\n",
        "train_loss_hist, train_acc_hist, test_loss_hist, test_acc_hist, best_model = train(\n",
        "    model, loss_function, optimizer, epochs = 25, device=device)"
      ],
      "execution_count": null,
      "outputs": [
        {
          "output_type": "stream",
          "name": "stdout",
          "text": [
            "Epoch=0 train loss=3.731, test loss=6.273, train accuracy=0.6699,0.6699 train error accuracy=0.6020, test accuracy=0.7138,0.7138 test error accuracy=0.7738\n",
            "Epoch=1 train loss=3.527, test loss=5.901, train accuracy=0.6910,0.6910 train error accuracy=0.5947, test accuracy=0.7204,0.7204 test error accuracy=0.7738\n",
            "Epoch=2 train loss=3.444, test loss=5.886, train accuracy=0.7435,0.7435 train error accuracy=0.5754, test accuracy=0.7450,0.7450 test error accuracy=0.7738\n",
            "Epoch=3 train loss=3.381, test loss=5.86, train accuracy=0.7608,0.7608 train error accuracy=0.5402, test accuracy=0.7634,0.7634 test error accuracy=0.7735\n",
            "Epoch=4 train loss=3.308, test loss=5.903, train accuracy=0.7923,0.7922 train error accuracy=0.5338, test accuracy=0.7862,0.7862 test error accuracy=0.7731\n",
            "Epoch=5 train loss=3.177, test loss=5.695, train accuracy=0.7970,0.7970 train error accuracy=0.5971, test accuracy=0.7518,0.7519 test error accuracy=0.7546\n",
            "Epoch=6 train loss=2.887, test loss=5.222, train accuracy=0.7852,0.7852 train error accuracy=0.7356, test accuracy=0.7363,0.7363 test error accuracy=0.7761\n",
            "Epoch=7 train loss=2.543, test loss=4.801, train accuracy=0.8109,0.8110 train error accuracy=0.7792, test accuracy=0.7577,0.7577 test error accuracy=0.7636\n",
            "Epoch=8 train loss=2.296, test loss=5.334, train accuracy=0.7903,0.7904 train error accuracy=0.8551, test accuracy=0.7005,0.7005 test error accuracy=0.8075\n",
            "Epoch=9 train loss=2.168, test loss=5.308, train accuracy=0.8016,0.8017 train error accuracy=0.8706, test accuracy=0.7067,0.7067 test error accuracy=0.7974\n",
            "Epoch=10 train loss=2.081, test loss=5.805, train accuracy=0.7871,0.7872 train error accuracy=0.9173, test accuracy=0.6824,0.6824 test error accuracy=0.8138\n",
            "Epoch=11 train loss=2.016, test loss=6.477, train accuracy=0.7382,0.7383 train error accuracy=0.9501, test accuracy=0.6246,0.6246 test error accuracy=0.8250\n",
            "Epoch=12 train loss=1.97, test loss=6.251, train accuracy=0.7753,0.7753 train error accuracy=0.9437, test accuracy=0.6702,0.6702 test error accuracy=0.8085\n",
            "Epoch=13 train loss=1.911, test loss=6.49, train accuracy=0.7626,0.7627 train error accuracy=0.9529, test accuracy=0.6538,0.6537 test error accuracy=0.8202\n",
            "Epoch=14 train loss=1.868, test loss=6.429, train accuracy=0.7824,0.7824 train error accuracy=0.9476, test accuracy=0.6793,0.6793 test error accuracy=0.7986\n",
            "Epoch=15 train loss=1.811, test loss=5.921, train accuracy=0.8382,0.8381 train error accuracy=0.9078, test accuracy=0.7344,0.7344 test error accuracy=0.7236\n",
            "Epoch=16 train loss=1.751, test loss=6.335, train accuracy=0.8138,0.8138 train error accuracy=0.9396, test accuracy=0.7145,0.7146 test error accuracy=0.7653\n",
            "Epoch=17 train loss=1.752, test loss=6.264, train accuracy=0.7934,0.7934 train error accuracy=0.9442, test accuracy=0.7005,0.7005 test error accuracy=0.7896\n",
            "Epoch=18 train loss=1.709, test loss=6.385, train accuracy=0.8150,0.8150 train error accuracy=0.9474, test accuracy=0.7198,0.7199 test error accuracy=0.7755\n",
            "Epoch=19 train loss=1.673, test loss=6.41, train accuracy=0.8212,0.8212 train error accuracy=0.9491, test accuracy=0.7241,0.7241 test error accuracy=0.7701\n",
            "Epoch=20 train loss=1.604, test loss=6.208, train accuracy=0.8532,0.8532 train error accuracy=0.9335, test accuracy=0.7584,0.7585 test error accuracy=0.7424\n",
            "Epoch=21 train loss=1.569, test loss=5.947, train accuracy=0.8681,0.8681 train error accuracy=0.9164, test accuracy=0.7777,0.7778 test error accuracy=0.7151\n",
            "Epoch=22 train loss=1.534, test loss=6.364, train accuracy=0.8543,0.8543 train error accuracy=0.9389, test accuracy=0.7570,0.7570 test error accuracy=0.7363\n",
            "Epoch=23 train loss=1.528, test loss=6.284, train accuracy=0.8594,0.8594 train error accuracy=0.9349, test accuracy=0.7616,0.7617 test error accuracy=0.7202\n",
            "Epoch=24 train loss=1.564, test loss=6.13, train accuracy=0.8130,0.8130 train error accuracy=0.9565, test accuracy=0.7295,0.7295 test error accuracy=0.7901\n"
          ]
        }
      ]
    },
    {
      "cell_type": "markdown",
      "metadata": {
        "id": "oQ_MYosTxVpc"
      },
      "source": [
        "# Тест сети"
      ]
    },
    {
      "cell_type": "code",
      "metadata": {
        "colab": {
          "base_uri": "https://localhost:8080/"
        },
        "id": "gHIfZkTvAwEb",
        "outputId": "c5ea7285-d1eb-4098-c4f8-53fd57c13ebd"
      },
      "source": [
        "error_acc,total_acc= validate(best_model, testloader, device)"
      ],
      "execution_count": null,
      "outputs": [
        {
          "output_type": "stream",
          "name": "stderr",
          "text": [
            "/usr/local/lib/python3.7/dist-packages/torch/nn/modules/rnn.py:838: UserWarning: RNN module weights are not part of single contiguous chunk of memory. This means they need to be compacted at every call, possibly greatly increasing memory usage. To compact weights again call flatten_parameters(). (Triggered internally at  /pytorch/aten/src/ATen/native/cudnn/RNN.cpp:924.)\n",
            "  self.dropout, self.training, self.bidirectional, self.batch_first)\n"
          ]
        }
      ]
    },
    {
      "cell_type": "code",
      "metadata": {
        "id": "rlKY7Fu5Dbij"
      },
      "source": [
        "N = len(Y_test[torch.sum(Y_test,dim=1)>0])"
      ],
      "execution_count": null,
      "outputs": []
    },
    {
      "cell_type": "code",
      "metadata": {
        "colab": {
          "base_uri": "https://localhost:8080/"
        },
        "id": "LW1zjarmAwEc",
        "outputId": "b5eb2c23-bf40-4125-adfb-3a8e7fdddfcf"
      },
      "source": [
        "print(f\"Test accuracy: {total_acc}, test error accuracy: {error_acc}\")\n",
        "print(f\"Total errors in test dataset: {N}\")"
      ],
      "execution_count": null,
      "outputs": [
        {
          "output_type": "stream",
          "name": "stdout",
          "text": [
            "Test accuracy: [0.78617341 0.78617341 0.78617341 0.78617341 0.78617341 0.78617341\n",
            " 0.78617341 0.78617341 0.78617341 0.78617341], test error accuracy: [0.77309379 0.77309379 0.77309379 0.77309379 0.77309379 0.77309379\n",
            " 0.77309379 0.77309379 0.77309379 0.77309379]\n",
            "Total errors in test dataset: 7411\n"
          ]
        }
      ]
    },
    {
      "cell_type": "code",
      "metadata": {
        "colab": {
          "base_uri": "https://localhost:8080/",
          "height": 891
        },
        "id": "bg--hsyREaBT",
        "outputId": "cacb7fce-bd6e-4bc3-8146-6470dc0f0981"
      },
      "source": [
        "for ind in random_samples_ind:\n",
        "    X_well=total_X_grouped[ind]\n",
        "    labels=total_Y_grouped[ind]\n",
        "    outputs = best_model(torch.Tensor(X_well).to(device))\n",
        "    arr=np.where(labels[:,0]==0, \"Нет осложнения\", \"Осложнение\")\n",
        "    plt.scatter(X_well[:,-1,0]*max_depth,arr, label='Данные')\n",
        "    for ind_out, output in enumerate(outputs):\n",
        "      #label=labels[:,ind_out]\n",
        "      _, predicted = torch.max(output.data, 1)\n",
        "      pred = predicted.cpu()\n",
        "      \n",
        "      plt.scatter(X_well[:,-1,0]*max_depth,pred, s=10-2*ind_out, label=f'Прогноз на {ind_out} шагов')\n",
        "      \n",
        "    plt.xlabel('Глубина')\n",
        "    #plt.ylabel('Error code')\n",
        "      #N = len(labels[:,0][labels[:,0]>0])\n",
        "      #N_err_pred=((pred.numpy() == Y_well) & (Y_well>0)).sum()\n",
        "      #print(f\"Number of errors: {N}\")\n",
        "      #print(f\"Number of right errors prediction: {N_err_pred}\")\n",
        "      #print(f\"Error prediction accuracy: {N_err_pred/N}\")\n",
        "      #plt.savefig()\n",
        "    plt.legend()\n",
        "    plt.show()"
      ],
      "execution_count": null,
      "outputs": [
        {
          "output_type": "stream",
          "name": "stderr",
          "text": [
            "/usr/local/lib/python3.7/dist-packages/torch/nn/modules/rnn.py:838: UserWarning: RNN module weights are not part of single contiguous chunk of memory. This means they need to be compacted at every call, possibly greatly increasing memory usage. To compact weights again call flatten_parameters(). (Triggered internally at  /pytorch/aten/src/ATen/native/cudnn/RNN.cpp:924.)\n",
            "  self.dropout, self.training, self.bidirectional, self.batch_first)\n",
            "/usr/local/lib/python3.7/dist-packages/matplotlib/collections.py:885: RuntimeWarning: invalid value encountered in sqrt\n",
            "  scale = np.sqrt(self._sizes) * dpi / 72.0 * self._factor\n"
          ]
        },
        {
          "output_type": "display_data",
          "data": {
            "image/png": "[encoded data removed]",
            "text/plain": [
              "<Figure size 432x288 with 1 Axes>"
            ]
          },
          "metadata": {
            "needs_background": "light"
          }
        },
        {
          "output_type": "display_data",
          "data": {
            "image/png": "[encoded data removed]",
            "text/plain": [
              "<Figure size 432x288 with 1 Axes>"
            ]
          },
          "metadata": {
            "needs_background": "light"
          }
        },
        {
          "output_type": "display_data",
          "data": {
            "image/png": "[encoded data removed]",
            "text/plain": [
              "<Figure size 432x288 with 1 Axes>"
            ]
          },
          "metadata": {
            "needs_background": "light"
          }
        }
      ]
    },
    {
      "cell_type": "code",
      "metadata": {
        "colab": {
          "base_uri": "https://localhost:8080/",
          "height": 225
        },
        "id": "vAfrWeWmAwEd",
        "outputId": "591b0a23-ac3c-4a57-ea11-e3c161f42a0d"
      },
      "source": [
        "plt.figure(figsize=(12,3))\n",
        "plt.scatter(X_grouped[:,-1,0]*max_depth,arr, s=0.5, label='Данные')\n",
        "plt.scatter(X_grouped[:,-1,0]*max_depth,predicted+0.03, s=0.5, label='Прогноз')\n",
        "plt.legend()\n",
        "plt.xlabel('Глубина, м')\n",
        "plt.ylim(top=1.1, bottom=-0.1)\n",
        "#plt.ylabel('Error code')\n",
        "#plt.savefig(directory+'Data/8301_RNN.png',dpi=600, facecolor='white', bbox_inches='tight')\n",
        "plt.show()"
      ],
      "execution_count": null,
      "outputs": [
        {
          "output_type": "display_data",
          "data": {
            "image/png": "[encoded data removed]",
            "text/plain": [
              "<Figure size 864x216 with 1 Axes>"
            ]
          },
          "metadata": {
            "needs_background": "light"
          }
        }
      ]
    },
    {
      "cell_type": "markdown",
      "metadata": {
        "id": "7KOgp-e07eE7"
      },
      "source": [
        "# Сохранение модели"
      ]
    },
    {
      "cell_type": "code",
      "metadata": {
        "id": "qP74y_abAwEd",
        "colab": {
          "base_uri": "https://localhost:8080/",
          "height": 37
        },
        "outputId": "091ac31f-4b3a-4ab5-9486-03205cdfc370"
      },
      "source": [
        "filename=f'Code/trained_models/{X_train.size()}samples_accuracy_{error_acc[0]:.5}_future_pred'\n",
        "filename"
      ],
      "execution_count": null,
      "outputs": [
        {
          "output_type": "execute_result",
          "data": {
            "application/vnd.google.colaboratory.intrinsic+json": {
              "type": "string"
            },
            "text/plain": [
              "'Code/trained_models/torch.Size([666350, 50, 41])samples_accuracy_0.77309_future_pred'"
            ]
          },
          "metadata": {},
          "execution_count": 69
        }
      ]
    },
    {
      "cell_type": "code",
      "metadata": {
        "id": "IcEOgKRt7mmT"
      },
      "source": [
        "torch.save(best_model, directory+filename+'.pth')"
      ],
      "execution_count": null,
      "outputs": []
    },
    {
      "cell_type": "code",
      "metadata": {
        "id": "pknv5s8p7pDd"
      },
      "source": [
        "cols=columns_to_use+[\"Код Литологии\", \"Код стратиграфии\", \"Код осложнений\"]\n",
        "with open(directory+filename+'_Order_of_columns.csv', 'w') as f:\n",
        "    for column in cols:\n",
        "        f.write(column +'\\n')"
      ],
      "execution_count": null,
      "outputs": []
    },
    {
      "cell_type": "code",
      "metadata": {
        "id": "T0AP1eFDkpNj"
      },
      "source": [
        ""
      ],
      "execution_count": null,
      "outputs": []
    }
  ]
}