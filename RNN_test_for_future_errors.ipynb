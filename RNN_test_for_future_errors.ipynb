{
  "nbformat": 4,
  "nbformat_minor": 0,
  "metadata": {
    "kernelspec": {
      "display_name": "Python 3",
      "language": "python",
      "name": "python3"
    },
    "language_info": {
      "codemirror_mode": {
        "name": "ipython",
        "version": 3
      },
      "file_extension": ".py",
      "mimetype": "text/x-python",
      "name": "python",
      "nbconvert_exporter": "python",
      "pygments_lexer": "ipython3",
      "version": "3.7.6"
    },
    "colab": {
      "name": "RNN_test_for_future_errors.ipynb",
      "provenance": [],
      "collapsed_sections": [
        "ixhVEiF_AwEM",
        "asHeJq-mAwET",
        "3uf4xSUsAwEY",
        "ITR6IVCNAwEb"
      ],
      "include_colab_link": true
    }
  },
  "cells": [
    {
      "cell_type": "markdown",
      "metadata": {
        "id": "view-in-github",
        "colab_type": "text"
      },
      "source": [
        "<a href=\"https://colab.research.google.com/github/KseniiaKolesnichenko/MISIS-recomendation-systems-/blob/Risk-recomendation/RNN_test_for_future_errors.ipynb\" target=\"_parent\"><img src=\"https://colab.research.google.com/assets/colab-badge.svg\" alt=\"Open In Colab\"/></a>"
      ]
    },
    {
      "cell_type": "code",
      "metadata": {
        "id": "ufIMR1lADhp7",
        "colab": {
          "base_uri": "https://localhost:8080/"
        },
        "outputId": "df41d2b1-5f9f-4eb7-d663-477bb58b46a9"
      },
      "source": [
        "!pip install --upgrade numpy"
      ],
      "execution_count": 1,
      "outputs": [
        {
          "output_type": "stream",
          "name": "stdout",
          "text": [
            "Requirement already satisfied: numpy in /usr/local/lib/python3.7/dist-packages (1.21.5)\n"
          ]
        }
      ]
    },
    {
      "cell_type": "code",
      "metadata": {
        "colab": {
          "base_uri": "https://localhost:8080/"
        },
        "id": "Ti9HQIytA7IP",
        "outputId": "fb6cee2c-4244-44ba-f451-bfe1678e8d4f"
      },
      "source": [
        "from google.colab import drive\n",
        "drive.mount('/content/drive')"
      ],
      "execution_count": 2,
      "outputs": [
        {
          "output_type": "stream",
          "name": "stdout",
          "text": [
            "Drive already mounted at /content/drive; to attempt to forcibly remount, call drive.mount(\"/content/drive\", force_remount=True).\n"
          ]
        }
      ]
    },
    {
      "cell_type": "code",
      "metadata": {
        "id": "VMRkPY6TFcpM"
      },
      "source": [
        "file='8302_ver1.xlsx'"
      ],
      "execution_count": 3,
      "outputs": []
    },
    {
      "cell_type": "markdown",
      "metadata": {
        "id": "ixhVEiF_AwEM"
      },
      "source": [
        "# Загрузка и предобработка данных"
      ]
    },
    {
      "cell_type": "code",
      "metadata": {
        "id": "tS9rNijcAwEJ"
      },
      "source": [
        "import torch\n",
        "from torch import nn\n",
        "from torch.utils.data import TensorDataset, DataLoader\n",
        "from torch.nn import RNN, LSTM\n",
        "import torch.nn.functional as F\n",
        "\n",
        "import pandas as pd\n",
        "import numpy as np\n",
        "import matplotlib.pyplot as plt\n",
        "import seaborn as sns\n",
        "%matplotlib inline"
      ],
      "execution_count": 4,
      "outputs": []
    },
    {
      "cell_type": "code",
      "source": [
        "torch.cuda.is_available()\n"
      ],
      "metadata": {
        "id": "BuanAJINubEI",
        "colab": {
          "base_uri": "https://localhost:8080/"
        },
        "outputId": "00d165a3-d024-4762-96ee-76be02463995"
      },
      "execution_count": 5,
      "outputs": [
        {
          "output_type": "execute_result",
          "data": {
            "text/plain": [
              "False"
            ]
          },
          "metadata": {},
          "execution_count": 5
        }
      ]
    },
    {
      "cell_type": "code",
      "metadata": {
        "colab": {
          "base_uri": "https://localhost:8080/"
        },
        "id": "cusWZpu5AwEO",
        "outputId": "2509683f-1449-4caf-c0a9-4e43120c8dca"
      },
      "source": [
        "%%time\n",
        "#Загрузка данных\n",
        "\n",
        "directory='drive/MyDrive/Colab Notebooks/Drilling_error_prediction/'\n",
        "raw_df=pd.read_excel(directory+'Data/'+file)"
      ],
      "execution_count": 6,
      "outputs": [
        {
          "output_type": "stream",
          "name": "stdout",
          "text": [
            "CPU times: user 9.98 s, sys: 261 ms, total: 10.2 s\n",
            "Wall time: 10.3 s\n"
          ]
        }
      ]
    },
    {
      "cell_type": "code",
      "metadata": {
        "id": "nW8NbjSrAwEQ"
      },
      "source": [
        "raw_df.replace(-999.25, np.nan, inplace=True)"
      ],
      "execution_count": 7,
      "outputs": []
    },
    {
      "cell_type": "code",
      "metadata": {
        "id": "li3aLWIWAwEQ"
      },
      "source": [
        "#Исправление частых опечаток\n",
        "raw_df.rename(columns={'Мес корость ср': 'Мех. скорость ср',\n",
        "    'Мех корость ср': 'Мех. скорость ср',\n",
        "    'Мех скорость ср': 'Мех. скорость ср',\n",
        "    'Мех ск. средняя': 'Мех. скорость ср',\n",
        "    'ЦСГО':'ЦСГО 1',\n",
        "    'ЦСГО ':'ЦСГО 1',\n",
        "    'Суммарная емкость': 'Сумма актив. емкостей',\n",
        "                       'Сумманная емкость': 'Сумма актив. емкостей',\n",
        "                       'Сумманая емкость': 'Сумма актив. емкостей',\n",
        "                       'Сумма актив. ёмкостей': 'Сумма актив. емкостей',\n",
        "                       'Сумма актив. ёмк.': 'Сумма актив. емкостей',\n",
        "                       'Сумм. актив ёмк.': 'Сумма актив. емкостей',\n",
        "                       'Сумма актив ёмк': 'Сумма актив. емкостей',\n",
        "                      'Рабочаяемк. 1': 'Рабочая емк. 1',\n",
        "                      'Рабочая емк.1': 'Рабочая емк. 1',\n",
        "                      'Ёмк1': 'Рабочая емк. 1', 'Ёмк 1': 'Рабочая емк. 1',\n",
        "                       'Рабочая ёмкость ': 'Рабочая емк. 1',\n",
        "                      'Рабочаяемк. 2': 'Рабочая емк. 2',\n",
        "                      'Рабочая емк.2': 'Рабочая емк. 2',\n",
        "                       'Ёмк2': 'Рабочая емк. 2', 'Ёмк 2': 'Рабочая емк. 2',\n",
        "                       'Рабочая ёмкость 2': 'Рабочая емк. 2',\n",
        "                      'Код литологии': 'Код Литологии',\n",
        "                      'код стратиграфии': 'Код стратиграфии',\n",
        "                       'код горизонта маркера': 'Код горизонта маркера',\n",
        "                       'Код горизонта макрера': 'Код горизонта маркера',\n",
        "                      'Диаметр долота ': 'Диаметр долота',\n",
        "                       'Температура вход':'Температура вх',\n",
        "                       'Долив 1':'Долив',\n",
        "                       'Расход вход': 'Расход на вх', 'Поток вых':'Расход на вых.',\n",
        "                       'Расход ны вых.':'Расход на вых.',\n",
        "                       'Вес на крюке': 'Вес на кр',\n",
        "                       'Нагр на дол': 'Нагр. На долото',\n",
        "                       'Обороты': 'Обороты рот',\n",
        "                       'Высота крюка': 'Положение кр',\n",
        "                       'Глубина долота': 'Положение долота',\n",
        "                       'Плотность вход': 'Плотность на вх', \n",
        "                       'Плотность вых': 'Плотность на вых',\n",
        "                      'C1':'С1', 'C2':'С2','C3':'С3','C4':'С4', 'C5':'C5',\n",
        "                      'iC4':'iС4', 'iC5':'IC5', 'nC4':'С4', 'nC5':'C5',\n",
        "                       'PITVOL_1':'Рабочая емк. 1', 'PITVOL_2':'Рабочая емк. 2',\n",
        "                       'PITVOL_9':'Сумма актив. емкостей', 'PITVOL_3':'БПР 1',\n",
        "                       'PITVOL_4':'БПР 2', 'PITVOL_5':'ЦСГО 1', 'PITVOL_6':'ЦСГО 2',\n",
        "                       'PITVOL_7':'Долив','PITVOL_8':'Долив 2'\n",
        "                      }, inplace=True)"
      ],
      "execution_count": 8,
      "outputs": []
    },
    {
      "cell_type": "code",
      "metadata": {
        "id": "5oGMym6XAwES"
      },
      "source": [
        "raw_df.drop(index=0, inplace=True)\n",
        "raw_df['Код осложнений'].fillna(value=0, inplace=True)"
      ],
      "execution_count": 9,
      "outputs": []
    },
    {
      "cell_type": "code",
      "metadata": {
        "colab": {
          "base_uri": "https://localhost:8080/",
          "height": 305
        },
        "id": "UzLpEMZbjuuD",
        "outputId": "eea1f851-ff3a-4a39-9104-9e03a6654914"
      },
      "source": [
        "raw_df.head()"
      ],
      "execution_count": 10,
      "outputs": [
        {
          "output_type": "execute_result",
          "data": {
            "text/html": [
              "\n",
              "  <div id=\"df-06c9f703-ec03-4f21-9eb5-cc487f146b03\">\n",
              "    <div class=\"colab-df-container\">\n",
              "      <div>\n",
              "<style scoped>\n",
              "    .dataframe tbody tr th:only-of-type {\n",
              "        vertical-align: middle;\n",
              "    }\n",
              "\n",
              "    .dataframe tbody tr th {\n",
              "        vertical-align: top;\n",
              "    }\n",
              "\n",
              "    .dataframe thead th {\n",
              "        text-align: right;\n",
              "    }\n",
              "</style>\n",
              "<table border=\"1\" class=\"dataframe\">\n",
              "  <thead>\n",
              "    <tr style=\"text-align: right;\">\n",
              "      <th></th>\n",
              "      <th>Глубина</th>\n",
              "      <th>Код Литологии</th>\n",
              "      <th>С1</th>\n",
              "      <th>С2</th>\n",
              "      <th>С3</th>\n",
              "      <th>iС4</th>\n",
              "      <th>С4</th>\n",
              "      <th>IC5</th>\n",
              "      <th>C5</th>\n",
              "      <th>Вес на кр</th>\n",
              "      <th>Нагр. На долото</th>\n",
              "      <th>Давление</th>\n",
              "      <th>Момент</th>\n",
              "      <th>Обороты рот</th>\n",
              "      <th>Положение кр</th>\n",
              "      <th>Положение долота</th>\n",
              "      <th>Мех. скорость ср</th>\n",
              "      <th>Плотность на вх</th>\n",
              "      <th>Плотность на вых</th>\n",
              "      <th>Температура вх</th>\n",
              "      <th>Температура вых</th>\n",
              "      <th>Расход на вх</th>\n",
              "      <th>Расход на вых.</th>\n",
              "      <th>Рабочая емк. 1</th>\n",
              "      <th>Рабочая емк. 2</th>\n",
              "      <th>Долив</th>\n",
              "      <th>Долив 2</th>\n",
              "      <th>ЦСГО 1</th>\n",
              "      <th>ЦСГО 2</th>\n",
              "      <th>БПР 1</th>\n",
              "      <th>БПР 2</th>\n",
              "      <th>Сумма актив. емкостей</th>\n",
              "      <th>Диаметр долота</th>\n",
              "      <th>Диаметр скважины</th>\n",
              "      <th>Код осложнений</th>\n",
              "      <th>Код стратиграфии</th>\n",
              "    </tr>\n",
              "  </thead>\n",
              "  <tbody>\n",
              "    <tr>\n",
              "      <th>1</th>\n",
              "      <td>11.6</td>\n",
              "      <td>10</td>\n",
              "      <td>NaN</td>\n",
              "      <td>NaN</td>\n",
              "      <td>NaN</td>\n",
              "      <td>NaN</td>\n",
              "      <td>NaN</td>\n",
              "      <td>NaN</td>\n",
              "      <td>NaN</td>\n",
              "      <td>30.2143</td>\n",
              "      <td>0</td>\n",
              "      <td>882.598</td>\n",
              "      <td>200</td>\n",
              "      <td>60.99</td>\n",
              "      <td>11.42</td>\n",
              "      <td>11.6</td>\n",
              "      <td>24.1667</td>\n",
              "      <td>1000</td>\n",
              "      <td>1030.2</td>\n",
              "      <td>28</td>\n",
              "      <td>25</td>\n",
              "      <td>2.0164</td>\n",
              "      <td>100</td>\n",
              "      <td>32.056</td>\n",
              "      <td>27.257</td>\n",
              "      <td>0.499</td>\n",
              "      <td>0</td>\n",
              "      <td>7.683</td>\n",
              "      <td>0.333</td>\n",
              "      <td>3.431</td>\n",
              "      <td>18.437</td>\n",
              "      <td>91.374</td>\n",
              "      <td>0.3937</td>\n",
              "      <td>0.324</td>\n",
              "      <td>0.0</td>\n",
              "      <td>20.0</td>\n",
              "    </tr>\n",
              "    <tr>\n",
              "      <th>2</th>\n",
              "      <td>11.7</td>\n",
              "      <td>10</td>\n",
              "      <td>NaN</td>\n",
              "      <td>NaN</td>\n",
              "      <td>NaN</td>\n",
              "      <td>NaN</td>\n",
              "      <td>NaN</td>\n",
              "      <td>NaN</td>\n",
              "      <td>NaN</td>\n",
              "      <td>31.6068</td>\n",
              "      <td>0</td>\n",
              "      <td>882.598</td>\n",
              "      <td>200</td>\n",
              "      <td>60.99</td>\n",
              "      <td>11.32</td>\n",
              "      <td>11.7</td>\n",
              "      <td>4.5</td>\n",
              "      <td>1000</td>\n",
              "      <td>1010</td>\n",
              "      <td>28</td>\n",
              "      <td>18</td>\n",
              "      <td>2.0164</td>\n",
              "      <td>100</td>\n",
              "      <td>32.095</td>\n",
              "      <td>26.418</td>\n",
              "      <td>0.498</td>\n",
              "      <td>0</td>\n",
              "      <td>7.953</td>\n",
              "      <td>4.605</td>\n",
              "      <td>4.056</td>\n",
              "      <td>18.439</td>\n",
              "      <td>91.533</td>\n",
              "      <td>0.3937</td>\n",
              "      <td>0.324</td>\n",
              "      <td>0.0</td>\n",
              "      <td>20.0</td>\n",
              "    </tr>\n",
              "    <tr>\n",
              "      <th>3</th>\n",
              "      <td>11.8</td>\n",
              "      <td>10</td>\n",
              "      <td>NaN</td>\n",
              "      <td>NaN</td>\n",
              "      <td>NaN</td>\n",
              "      <td>NaN</td>\n",
              "      <td>NaN</td>\n",
              "      <td>NaN</td>\n",
              "      <td>NaN</td>\n",
              "      <td>18.5444</td>\n",
              "      <td>11.4444</td>\n",
              "      <td>882.598</td>\n",
              "      <td>600</td>\n",
              "      <td>60.99</td>\n",
              "      <td>11.22</td>\n",
              "      <td>11.8</td>\n",
              "      <td>5.1667</td>\n",
              "      <td>1000</td>\n",
              "      <td>1010</td>\n",
              "      <td>28</td>\n",
              "      <td>18</td>\n",
              "      <td>1.9851</td>\n",
              "      <td>100</td>\n",
              "      <td>31.995</td>\n",
              "      <td>25.422</td>\n",
              "      <td>0.476</td>\n",
              "      <td>0</td>\n",
              "      <td>7.999</td>\n",
              "      <td>4.949</td>\n",
              "      <td>4.681</td>\n",
              "      <td>18.436</td>\n",
              "      <td>91.561</td>\n",
              "      <td>0.3937</td>\n",
              "      <td>0.324</td>\n",
              "      <td>0.0</td>\n",
              "      <td>20.0</td>\n",
              "    </tr>\n",
              "    <tr>\n",
              "      <th>4</th>\n",
              "      <td>11.9</td>\n",
              "      <td>10</td>\n",
              "      <td>NaN</td>\n",
              "      <td>NaN</td>\n",
              "      <td>NaN</td>\n",
              "      <td>NaN</td>\n",
              "      <td>NaN</td>\n",
              "      <td>NaN</td>\n",
              "      <td>NaN</td>\n",
              "      <td>11.9543</td>\n",
              "      <td>18.0344</td>\n",
              "      <td>882.598</td>\n",
              "      <td>1000</td>\n",
              "      <td>60.99</td>\n",
              "      <td>11.12</td>\n",
              "      <td>11.9</td>\n",
              "      <td>6.1667</td>\n",
              "      <td>1000</td>\n",
              "      <td>1010</td>\n",
              "      <td>28</td>\n",
              "      <td>18</td>\n",
              "      <td>1.9851</td>\n",
              "      <td>100</td>\n",
              "      <td>32.062</td>\n",
              "      <td>24.078</td>\n",
              "      <td>0.503</td>\n",
              "      <td>0</td>\n",
              "      <td>7.902</td>\n",
              "      <td>5.004</td>\n",
              "      <td>5.188</td>\n",
              "      <td>18.438</td>\n",
              "      <td>91.18</td>\n",
              "      <td>0.3937</td>\n",
              "      <td>0.324</td>\n",
              "      <td>0.0</td>\n",
              "      <td>20.0</td>\n",
              "    </tr>\n",
              "    <tr>\n",
              "      <th>5</th>\n",
              "      <td>12</td>\n",
              "      <td>10</td>\n",
              "      <td>NaN</td>\n",
              "      <td>NaN</td>\n",
              "      <td>NaN</td>\n",
              "      <td>NaN</td>\n",
              "      <td>NaN</td>\n",
              "      <td>NaN</td>\n",
              "      <td>NaN</td>\n",
              "      <td>8.3749</td>\n",
              "      <td>21.6138</td>\n",
              "      <td>882.598</td>\n",
              "      <td>800</td>\n",
              "      <td>60.99</td>\n",
              "      <td>11.02</td>\n",
              "      <td>12</td>\n",
              "      <td>5</td>\n",
              "      <td>1000</td>\n",
              "      <td>1010</td>\n",
              "      <td>28</td>\n",
              "      <td>18</td>\n",
              "      <td>1.9956</td>\n",
              "      <td>100</td>\n",
              "      <td>32.074</td>\n",
              "      <td>24.012</td>\n",
              "      <td>0.484</td>\n",
              "      <td>0</td>\n",
              "      <td>7.943</td>\n",
              "      <td>5.939</td>\n",
              "      <td>5.392</td>\n",
              "      <td>18.43</td>\n",
              "      <td>91.313</td>\n",
              "      <td>0.3937</td>\n",
              "      <td>0.324</td>\n",
              "      <td>0.0</td>\n",
              "      <td>20.0</td>\n",
              "    </tr>\n",
              "  </tbody>\n",
              "</table>\n",
              "</div>\n",
              "      <button class=\"colab-df-convert\" onclick=\"convertToInteractive('df-06c9f703-ec03-4f21-9eb5-cc487f146b03')\"\n",
              "              title=\"Convert this dataframe to an interactive table.\"\n",
              "              style=\"display:none;\">\n",
              "        \n",
              "  <svg xmlns=\"http://www.w3.org/2000/svg\" height=\"24px\"viewBox=\"0 0 24 24\"\n",
              "       width=\"24px\">\n",
              "    <path d=\"M0 0h24v24H0V0z\" fill=\"none\"/>\n",
              "    <path d=\"M18.56 5.44l.94 2.06.94-2.06 2.06-.94-2.06-.94-.94-2.06-.94 2.06-2.06.94zm-11 1L8.5 8.5l.94-2.06 2.06-.94-2.06-.94L8.5 2.5l-.94 2.06-2.06.94zm10 10l.94 2.06.94-2.06 2.06-.94-2.06-.94-.94-2.06-.94 2.06-2.06.94z\"/><path d=\"M17.41 7.96l-1.37-1.37c-.4-.4-.92-.59-1.43-.59-.52 0-1.04.2-1.43.59L10.3 9.45l-7.72 7.72c-.78.78-.78 2.05 0 2.83L4 21.41c.39.39.9.59 1.41.59.51 0 1.02-.2 1.41-.59l7.78-7.78 2.81-2.81c.8-.78.8-2.07 0-2.86zM5.41 20L4 18.59l7.72-7.72 1.47 1.35L5.41 20z\"/>\n",
              "  </svg>\n",
              "      </button>\n",
              "      \n",
              "  <style>\n",
              "    .colab-df-container {\n",
              "      display:flex;\n",
              "      flex-wrap:wrap;\n",
              "      gap: 12px;\n",
              "    }\n",
              "\n",
              "    .colab-df-convert {\n",
              "      background-color: #E8F0FE;\n",
              "      border: none;\n",
              "      border-radius: 50%;\n",
              "      cursor: pointer;\n",
              "      display: none;\n",
              "      fill: #1967D2;\n",
              "      height: 32px;\n",
              "      padding: 0 0 0 0;\n",
              "      width: 32px;\n",
              "    }\n",
              "\n",
              "    .colab-df-convert:hover {\n",
              "      background-color: #E2EBFA;\n",
              "      box-shadow: 0px 1px 2px rgba(60, 64, 67, 0.3), 0px 1px 3px 1px rgba(60, 64, 67, 0.15);\n",
              "      fill: #174EA6;\n",
              "    }\n",
              "\n",
              "    [theme=dark] .colab-df-convert {\n",
              "      background-color: #3B4455;\n",
              "      fill: #D2E3FC;\n",
              "    }\n",
              "\n",
              "    [theme=dark] .colab-df-convert:hover {\n",
              "      background-color: #434B5C;\n",
              "      box-shadow: 0px 1px 3px 1px rgba(0, 0, 0, 0.15);\n",
              "      filter: drop-shadow(0px 1px 2px rgba(0, 0, 0, 0.3));\n",
              "      fill: #FFFFFF;\n",
              "    }\n",
              "  </style>\n",
              "\n",
              "      <script>\n",
              "        const buttonEl =\n",
              "          document.querySelector('#df-06c9f703-ec03-4f21-9eb5-cc487f146b03 button.colab-df-convert');\n",
              "        buttonEl.style.display =\n",
              "          google.colab.kernel.accessAllowed ? 'block' : 'none';\n",
              "\n",
              "        async function convertToInteractive(key) {\n",
              "          const element = document.querySelector('#df-06c9f703-ec03-4f21-9eb5-cc487f146b03');\n",
              "          const dataTable =\n",
              "            await google.colab.kernel.invokeFunction('convertToInteractive',\n",
              "                                                     [key], {});\n",
              "          if (!dataTable) return;\n",
              "\n",
              "          const docLinkHtml = 'Like what you see? Visit the ' +\n",
              "            '<a target=\"_blank\" href=https://colab.research.google.com/notebooks/data_table.ipynb>data table notebook</a>'\n",
              "            + ' to learn more about interactive tables.';\n",
              "          element.innerHTML = '';\n",
              "          dataTable['output_type'] = 'display_data';\n",
              "          await google.colab.output.renderOutput(dataTable, element);\n",
              "          const docLink = document.createElement('div');\n",
              "          docLink.innerHTML = docLinkHtml;\n",
              "          element.appendChild(docLink);\n",
              "        }\n",
              "      </script>\n",
              "    </div>\n",
              "  </div>\n",
              "  "
            ],
            "text/plain": [
              "  Глубина Код Литологии   С1  ... Диаметр скважины Код осложнений Код стратиграфии\n",
              "1    11.6            10  NaN  ...            0.324            0.0             20.0\n",
              "2    11.7            10  NaN  ...            0.324            0.0             20.0\n",
              "3    11.8            10  NaN  ...            0.324            0.0             20.0\n",
              "4    11.9            10  NaN  ...            0.324            0.0             20.0\n",
              "5      12            10  NaN  ...            0.324            0.0             20.0\n",
              "\n",
              "[5 rows x 36 columns]"
            ]
          },
          "metadata": {},
          "execution_count": 10
        }
      ]
    },
    {
      "cell_type": "code",
      "metadata": {
        "colab": {
          "base_uri": "https://localhost:8080/"
        },
        "id": "8MDjFMnZAwES",
        "outputId": "66edaa3a-2107-4c6b-e0eb-10192c6fa8e0"
      },
      "source": [
        "rows_with_NA=raw_df.isna().any(axis=1).sum()\n",
        "print(f'Number of NaN values: {rows_with_NA},\\\n",
        "part of NaN values: {rows_with_NA/len(raw_df)*100:.2f} %\\n')"
      ],
      "execution_count": 11,
      "outputs": [
        {
          "output_type": "stream",
          "name": "stdout",
          "text": [
            "Number of NaN values: 501,part of NaN values: 1.60 %\n",
            "\n"
          ]
        }
      ]
    },
    {
      "cell_type": "markdown",
      "metadata": {
        "id": "asHeJq-mAwET"
      },
      "source": [
        "# Загрузка модели"
      ]
    },
    {
      "cell_type": "code",
      "metadata": {
        "id": "MLSYbTLkAwEL"
      },
      "source": [
        "#рекурентная сеть\n",
        "class GRU_encoder(nn.Module):\n",
        "    def __init__(self, input_size, hidden_dim, output_size, num_layers=1):\n",
        "        super().__init__()\n",
        "\n",
        "        self.rnn = nn.GRU(input_size, hidden_size = hidden_dim, num_layers = num_layers, batch_first=True)\n",
        "        #self.fc = nn.Linear(hidden_dim, output_size)\n",
        "        self.out_size=output_size\n",
        "    \n",
        "    def forward(self, x):\n",
        "        batch_size = x.size(0)\n",
        "        #print(x.size())\n",
        "        #Инициализация скрытого состояния\n",
        "        hidden_0 = torch.zeros((self.rnn.num_layers, batch_size, self.rnn.hidden_size), device=device) \n",
        "        #cell_0 = torch.zeros((self.lstm.num_layers, batch_size, self.lstm.hidden_size), device=device)\n",
        "        #print(hidden_0.size())\n",
        "        # Слой LSTM\n",
        "        \n",
        "        rnn_out, hidden = self.rnn(x, hidden_0)\n",
        "         \n",
        "        #print(hidden.size())\n",
        "        #Полносвязный слой\n",
        "        #out = out.contiguous().view(-1, self.rnn.hidden_size)\n",
        "        #out = hidden[0][-1]\n",
        "        #out = F.relu(self.fc_intermediate(out))\n",
        "        #out = self.fc(out)\n",
        "        return rnn_out, hidden\n",
        "        #return out.view(-1, self.out_size), out\n",
        "\n",
        "class GRU_decoder(nn.Module):\n",
        "    def __init__(self, input_size, hidden_dim, n_classes, n_steps_forward):\n",
        "      super().__init__()\n",
        "\n",
        "      self.rnn_cell = nn.GRUCell(input_size, hidden_size = hidden_dim)\n",
        "      self.fc= nn.Linear(hidden_dim, n_classes)\n",
        "      self.n_steps=n_steps_forward\n",
        "\n",
        "    def forward(self,x, encoder_hidden_state):\n",
        "\n",
        "      current_hidden_state=encoder_hidden_state\n",
        "      #print(encoder_hidden_state.shape)\n",
        "      hiddens=[]\n",
        "      outs=[]\n",
        "      for _ in range(self.n_steps):\n",
        "        hidden = self.rnn_cell(x, current_hidden_state)\n",
        "        hiddens.append(hidden)\n",
        "        out=self.fc(hidden)\n",
        "        outs.append(out)\n",
        "      return outs, hiddens \n",
        "\n",
        "class GRU_seq2seq(nn.Module):\n",
        "    def __init__(self, encoder, decoder, output_size):\n",
        "      super().__init__()\n",
        "\n",
        "      self.encoder=encoder\n",
        "      self.decoder=decoder\n",
        "      self.out_size=output_size\n",
        "\n",
        "    def forward(self,x):\n",
        "      _,encoder_hidden=self.encoder.forward(x)\n",
        "      \n",
        "      #print(encoder_hidden.shape)\n",
        "      outputs,_=self.decoder.forward(x[:,-1],encoder_hidden[0])\n",
        "      return outputs"
      ],
      "execution_count": 12,
      "outputs": []
    },
    {
      "cell_type": "code",
      "metadata": {
        "colab": {
          "base_uri": "https://localhost:8080/"
        },
        "id": "6mZlCtkTAwET",
        "outputId": "42e79f61-dda2-4205-da9e-c5ced807195e"
      },
      "source": [
        "device = torch.device('cuda:0' if torch.cuda.is_available() else 'cpu')\n",
        "model_file='torch.Size([666350, 50, 41])samples_accuracy_0.75598_future_pred'\n",
        "model=torch.load(directory+\"Code/trained_models/\"+model_file+\".pth\",map_location=device)\n",
        "model"
      ],
      "execution_count": 13,
      "outputs": [
        {
          "output_type": "execute_result",
          "data": {
            "text/plain": [
              "GRU_seq2seq(\n",
              "  (encoder): GRU_encoder(\n",
              "    (rnn): GRU(41, 5, batch_first=True)\n",
              "  )\n",
              "  (decoder): GRU_decoder(\n",
              "    (rnn_cell): GRUCell(41, 5)\n",
              "    (fc): Linear(in_features=5, out_features=2, bias=True)\n",
              "  )\n",
              ")"
            ]
          },
          "metadata": {},
          "execution_count": 13
        }
      ]
    },
    {
      "cell_type": "code",
      "metadata": {
        "id": "DLaGAyYiAwEU"
      },
      "source": [
        "order=pd.read_csv(directory+'Code/trained_models/'+model_file+'_Order_of_columns.csv', header=None)"
      ],
      "execution_count": 14,
      "outputs": []
    },
    {
      "cell_type": "code",
      "metadata": {
        "colab": {
          "base_uri": "https://localhost:8080/"
        },
        "id": "ACTRtwBuAwEU",
        "outputId": "797ef88a-b49e-411d-adc7-48e5ad95473f"
      },
      "source": [
        "print('Columns order:')\n",
        "print(order[0])"
      ],
      "execution_count": 15,
      "outputs": [
        {
          "output_type": "stream",
          "name": "stdout",
          "text": [
            "Columns order:\n",
            "0                   Глубина\n",
            "1          Положение долота\n",
            "2            Диаметр долота\n",
            "3          Диаметр скважины\n",
            "4                    ЦСГО 1\n",
            "5                     Долив\n",
            "6               Обороты рот\n",
            "7     Сумма актив. емкостей\n",
            "8          Мех. скорость ср\n",
            "9            Рабочая емк. 1\n",
            "10           Температура вх\n",
            "11           Рабочая емк. 2\n",
            "12                Вес на кр\n",
            "13                 Давление\n",
            "14             Положение кр\n",
            "15          Плотность на вх\n",
            "16         Плотность на вых\n",
            "17          Нагр. На долото\n",
            "18          Температура вых\n",
            "19            Код Литологии\n",
            "20         Код стратиграфии\n",
            "21           Код осложнений\n",
            "Name: 0, dtype: object\n"
          ]
        }
      ]
    },
    {
      "cell_type": "code",
      "metadata": {
        "id": "I6uMhTmoAwEU"
      },
      "source": [
        "df=raw_df[order[0]]"
      ],
      "execution_count": 16,
      "outputs": []
    },
    {
      "cell_type": "code",
      "metadata": {
        "colab": {
          "base_uri": "https://localhost:8080/"
        },
        "id": "afadNeVNAwEV",
        "outputId": "edc1acca-683d-473d-f01a-f5395eeefc5e"
      },
      "source": [
        "rows_with_NA=df.isna().any(axis=1).sum()\n",
        "print(f'Number of NaN values in cut data: {rows_with_NA},\\\n",
        "part of NaN values: {rows_with_NA/len(df)*100:.2f} %\\n')"
      ],
      "execution_count": 17,
      "outputs": [
        {
          "output_type": "stream",
          "name": "stdout",
          "text": [
            "Number of NaN values in cut data: 81,part of NaN values: 0.26 %\n",
            "\n"
          ]
        }
      ]
    },
    {
      "cell_type": "code",
      "metadata": {
        "colab": {
          "base_uri": "https://localhost:8080/"
        },
        "id": "xpPBYbeIAwEV",
        "outputId": "aa7d2051-483a-4c42-8319-86650a6266bc"
      },
      "source": [
        "df.dropna(inplace=True)"
      ],
      "execution_count": 18,
      "outputs": [
        {
          "output_type": "stream",
          "name": "stderr",
          "text": [
            "/usr/local/lib/python3.7/dist-packages/ipykernel_launcher.py:1: SettingWithCopyWarning: \n",
            "A value is trying to be set on a copy of a slice from a DataFrame\n",
            "\n",
            "See the caveats in the documentation: https://pandas.pydata.org/pandas-docs/stable/user_guide/indexing.html#returning-a-view-versus-a-copy\n",
            "  \"\"\"Entry point for launching an IPython kernel.\n"
          ]
        }
      ]
    },
    {
      "cell_type": "code",
      "metadata": {
        "id": "PgejQElGAwEW"
      },
      "source": [
        "df=df.astype(np.float32, copy=False) \n",
        "df=df.astype({'Код Литологии': np.uint16,'Код осложнений': np.uint16, 'Код стратиграфии': np.uint16}\n",
        "                                     , copy=False) "
      ],
      "execution_count": 19,
      "outputs": []
    },
    {
      "cell_type": "code",
      "metadata": {
        "colab": {
          "base_uri": "https://localhost:8080/"
        },
        "id": "Ley8YnBrAwEX",
        "outputId": "a0b258ad-554d-43c9-eb67-234e1dcf52b5"
      },
      "source": [
        "df.info()"
      ],
      "execution_count": 20,
      "outputs": [
        {
          "output_type": "stream",
          "name": "stdout",
          "text": [
            "<class 'pandas.core.frame.DataFrame'>\n",
            "Int64Index: 31219 entries, 1 to 31296\n",
            "Data columns (total 22 columns):\n",
            " #   Column                 Non-Null Count  Dtype  \n",
            "---  ------                 --------------  -----  \n",
            " 0   Глубина                31219 non-null  float32\n",
            " 1   Положение долота       31219 non-null  float32\n",
            " 2   Диаметр долота         31219 non-null  float32\n",
            " 3   Диаметр скважины       31219 non-null  float32\n",
            " 4   ЦСГО 1                 31219 non-null  float32\n",
            " 5   Долив                  31219 non-null  float32\n",
            " 6   Обороты рот            31219 non-null  float32\n",
            " 7   Сумма актив. емкостей  31219 non-null  float32\n",
            " 8   Мех. скорость ср       31219 non-null  float32\n",
            " 9   Рабочая емк. 1         31219 non-null  float32\n",
            " 10  Температура вх         31219 non-null  float32\n",
            " 11  Рабочая емк. 2         31219 non-null  float32\n",
            " 12  Вес на кр              31219 non-null  float32\n",
            " 13  Давление               31219 non-null  float32\n",
            " 14  Положение кр           31219 non-null  float32\n",
            " 15  Плотность на вх        31219 non-null  float32\n",
            " 16  Плотность на вых       31219 non-null  float32\n",
            " 17  Нагр. На долото        31219 non-null  float32\n",
            " 18  Температура вых        31219 non-null  float32\n",
            " 19  Код Литологии          31219 non-null  uint16 \n",
            " 20  Код стратиграфии       31219 non-null  uint16 \n",
            " 21  Код осложнений         31219 non-null  uint16 \n",
            "dtypes: float32(19), uint16(3)\n",
            "memory usage: 2.7 MB\n"
          ]
        }
      ]
    },
    {
      "cell_type": "code",
      "metadata": {
        "id": "m2_DXkb8AwEX"
      },
      "source": [
        "#Масштабы\n",
        "scales=pd.read_excel(directory+'Data/Масштабы.xlsx')"
      ],
      "execution_count": 21,
      "outputs": []
    },
    {
      "cell_type": "code",
      "metadata": {
        "id": "ktkOUzwtAwEX"
      },
      "source": [
        "for column in df.columns:\n",
        "    if not scales[column].isnull().all():\n",
        "        max_value = scales[column].loc[2]\n",
        "        min_value = scales[column].loc[1]\n",
        "        df[column] = (df[column] - min_value) / (max_value - min_value)"
      ],
      "execution_count": 22,
      "outputs": []
    },
    {
      "cell_type": "code",
      "metadata": {
        "id": "qfxqs9OhAwEY"
      },
      "source": [
        "min_depth=scales['Глубина'].loc[1]\n",
        "max_depth=scales['Глубина'].loc[2]"
      ],
      "execution_count": 23,
      "outputs": []
    },
    {
      "cell_type": "code",
      "metadata": {
        "colab": {
          "base_uri": "https://localhost:8080/",
          "height": 305
        },
        "id": "OX2lxOvQAwEY",
        "outputId": "f68a7809-495b-4cfe-a862-279ad295733a"
      },
      "source": [
        "df.head()"
      ],
      "execution_count": 24,
      "outputs": [
        {
          "output_type": "execute_result",
          "data": {
            "text/html": [
              "\n",
              "  <div id=\"df-950d8500-4c31-4bdf-b88f-5c9b5e5cb381\">\n",
              "    <div class=\"colab-df-container\">\n",
              "      <div>\n",
              "<style scoped>\n",
              "    .dataframe tbody tr th:only-of-type {\n",
              "        vertical-align: middle;\n",
              "    }\n",
              "\n",
              "    .dataframe tbody tr th {\n",
              "        vertical-align: top;\n",
              "    }\n",
              "\n",
              "    .dataframe thead th {\n",
              "        text-align: right;\n",
              "    }\n",
              "</style>\n",
              "<table border=\"1\" class=\"dataframe\">\n",
              "  <thead>\n",
              "    <tr style=\"text-align: right;\">\n",
              "      <th></th>\n",
              "      <th>Глубина</th>\n",
              "      <th>Положение долота</th>\n",
              "      <th>Диаметр долота</th>\n",
              "      <th>Диаметр скважины</th>\n",
              "      <th>ЦСГО 1</th>\n",
              "      <th>Долив</th>\n",
              "      <th>Обороты рот</th>\n",
              "      <th>Сумма актив. емкостей</th>\n",
              "      <th>Мех. скорость ср</th>\n",
              "      <th>Рабочая емк. 1</th>\n",
              "      <th>Температура вх</th>\n",
              "      <th>Рабочая емк. 2</th>\n",
              "      <th>Вес на кр</th>\n",
              "      <th>Давление</th>\n",
              "      <th>Положение кр</th>\n",
              "      <th>Плотность на вх</th>\n",
              "      <th>Плотность на вых</th>\n",
              "      <th>Нагр. На долото</th>\n",
              "      <th>Температура вых</th>\n",
              "      <th>Код Литологии</th>\n",
              "      <th>Код стратиграфии</th>\n",
              "      <th>Код осложнений</th>\n",
              "    </tr>\n",
              "  </thead>\n",
              "  <tbody>\n",
              "    <tr>\n",
              "      <th>1</th>\n",
              "      <td>0.00116</td>\n",
              "      <td>0.331429</td>\n",
              "      <td>0.000787</td>\n",
              "      <td>0.000648</td>\n",
              "      <td>0.15366</td>\n",
              "      <td>0.00998</td>\n",
              "      <td>0.6099</td>\n",
              "      <td>0.261069</td>\n",
              "      <td>0.096667</td>\n",
              "      <td>0.64112</td>\n",
              "      <td>0.28</td>\n",
              "      <td>0.54514</td>\n",
              "      <td>0.201429</td>\n",
              "      <td>3.530394</td>\n",
              "      <td>0.326286</td>\n",
              "      <td>333.333344</td>\n",
              "      <td>343.399994</td>\n",
              "      <td>0.000000</td>\n",
              "      <td>0.25</td>\n",
              "      <td>10</td>\n",
              "      <td>20</td>\n",
              "      <td>0</td>\n",
              "    </tr>\n",
              "    <tr>\n",
              "      <th>2</th>\n",
              "      <td>0.00117</td>\n",
              "      <td>0.334286</td>\n",
              "      <td>0.000787</td>\n",
              "      <td>0.000648</td>\n",
              "      <td>0.15906</td>\n",
              "      <td>0.00996</td>\n",
              "      <td>0.6099</td>\n",
              "      <td>0.261523</td>\n",
              "      <td>0.018000</td>\n",
              "      <td>0.64190</td>\n",
              "      <td>0.28</td>\n",
              "      <td>0.52836</td>\n",
              "      <td>0.210712</td>\n",
              "      <td>3.530394</td>\n",
              "      <td>0.323429</td>\n",
              "      <td>333.333344</td>\n",
              "      <td>336.666656</td>\n",
              "      <td>0.000000</td>\n",
              "      <td>0.18</td>\n",
              "      <td>10</td>\n",
              "      <td>20</td>\n",
              "      <td>0</td>\n",
              "    </tr>\n",
              "    <tr>\n",
              "      <th>3</th>\n",
              "      <td>0.00118</td>\n",
              "      <td>0.337143</td>\n",
              "      <td>0.000787</td>\n",
              "      <td>0.000648</td>\n",
              "      <td>0.15998</td>\n",
              "      <td>0.00952</td>\n",
              "      <td>0.6099</td>\n",
              "      <td>0.261603</td>\n",
              "      <td>0.020667</td>\n",
              "      <td>0.63990</td>\n",
              "      <td>0.28</td>\n",
              "      <td>0.50844</td>\n",
              "      <td>0.123629</td>\n",
              "      <td>3.530394</td>\n",
              "      <td>0.320571</td>\n",
              "      <td>333.333344</td>\n",
              "      <td>336.666656</td>\n",
              "      <td>0.076296</td>\n",
              "      <td>0.18</td>\n",
              "      <td>10</td>\n",
              "      <td>20</td>\n",
              "      <td>0</td>\n",
              "    </tr>\n",
              "    <tr>\n",
              "      <th>4</th>\n",
              "      <td>0.00119</td>\n",
              "      <td>0.340000</td>\n",
              "      <td>0.000787</td>\n",
              "      <td>0.000648</td>\n",
              "      <td>0.15804</td>\n",
              "      <td>0.01006</td>\n",
              "      <td>0.6099</td>\n",
              "      <td>0.260514</td>\n",
              "      <td>0.024667</td>\n",
              "      <td>0.64124</td>\n",
              "      <td>0.28</td>\n",
              "      <td>0.48156</td>\n",
              "      <td>0.079695</td>\n",
              "      <td>3.530394</td>\n",
              "      <td>0.317714</td>\n",
              "      <td>333.333344</td>\n",
              "      <td>336.666656</td>\n",
              "      <td>0.120229</td>\n",
              "      <td>0.18</td>\n",
              "      <td>10</td>\n",
              "      <td>20</td>\n",
              "      <td>0</td>\n",
              "    </tr>\n",
              "    <tr>\n",
              "      <th>5</th>\n",
              "      <td>0.00120</td>\n",
              "      <td>0.342857</td>\n",
              "      <td>0.000787</td>\n",
              "      <td>0.000648</td>\n",
              "      <td>0.15886</td>\n",
              "      <td>0.00968</td>\n",
              "      <td>0.6099</td>\n",
              "      <td>0.260894</td>\n",
              "      <td>0.020000</td>\n",
              "      <td>0.64148</td>\n",
              "      <td>0.28</td>\n",
              "      <td>0.48024</td>\n",
              "      <td>0.055833</td>\n",
              "      <td>3.530394</td>\n",
              "      <td>0.314857</td>\n",
              "      <td>333.333344</td>\n",
              "      <td>336.666656</td>\n",
              "      <td>0.144092</td>\n",
              "      <td>0.18</td>\n",
              "      <td>10</td>\n",
              "      <td>20</td>\n",
              "      <td>0</td>\n",
              "    </tr>\n",
              "  </tbody>\n",
              "</table>\n",
              "</div>\n",
              "      <button class=\"colab-df-convert\" onclick=\"convertToInteractive('df-950d8500-4c31-4bdf-b88f-5c9b5e5cb381')\"\n",
              "              title=\"Convert this dataframe to an interactive table.\"\n",
              "              style=\"display:none;\">\n",
              "        \n",
              "  <svg xmlns=\"http://www.w3.org/2000/svg\" height=\"24px\"viewBox=\"0 0 24 24\"\n",
              "       width=\"24px\">\n",
              "    <path d=\"M0 0h24v24H0V0z\" fill=\"none\"/>\n",
              "    <path d=\"M18.56 5.44l.94 2.06.94-2.06 2.06-.94-2.06-.94-.94-2.06-.94 2.06-2.06.94zm-11 1L8.5 8.5l.94-2.06 2.06-.94-2.06-.94L8.5 2.5l-.94 2.06-2.06.94zm10 10l.94 2.06.94-2.06 2.06-.94-2.06-.94-.94-2.06-.94 2.06-2.06.94z\"/><path d=\"M17.41 7.96l-1.37-1.37c-.4-.4-.92-.59-1.43-.59-.52 0-1.04.2-1.43.59L10.3 9.45l-7.72 7.72c-.78.78-.78 2.05 0 2.83L4 21.41c.39.39.9.59 1.41.59.51 0 1.02-.2 1.41-.59l7.78-7.78 2.81-2.81c.8-.78.8-2.07 0-2.86zM5.41 20L4 18.59l7.72-7.72 1.47 1.35L5.41 20z\"/>\n",
              "  </svg>\n",
              "      </button>\n",
              "      \n",
              "  <style>\n",
              "    .colab-df-container {\n",
              "      display:flex;\n",
              "      flex-wrap:wrap;\n",
              "      gap: 12px;\n",
              "    }\n",
              "\n",
              "    .colab-df-convert {\n",
              "      background-color: #E8F0FE;\n",
              "      border: none;\n",
              "      border-radius: 50%;\n",
              "      cursor: pointer;\n",
              "      display: none;\n",
              "      fill: #1967D2;\n",
              "      height: 32px;\n",
              "      padding: 0 0 0 0;\n",
              "      width: 32px;\n",
              "    }\n",
              "\n",
              "    .colab-df-convert:hover {\n",
              "      background-color: #E2EBFA;\n",
              "      box-shadow: 0px 1px 2px rgba(60, 64, 67, 0.3), 0px 1px 3px 1px rgba(60, 64, 67, 0.15);\n",
              "      fill: #174EA6;\n",
              "    }\n",
              "\n",
              "    [theme=dark] .colab-df-convert {\n",
              "      background-color: #3B4455;\n",
              "      fill: #D2E3FC;\n",
              "    }\n",
              "\n",
              "    [theme=dark] .colab-df-convert:hover {\n",
              "      background-color: #434B5C;\n",
              "      box-shadow: 0px 1px 3px 1px rgba(0, 0, 0, 0.15);\n",
              "      filter: drop-shadow(0px 1px 2px rgba(0, 0, 0, 0.3));\n",
              "      fill: #FFFFFF;\n",
              "    }\n",
              "  </style>\n",
              "\n",
              "      <script>\n",
              "        const buttonEl =\n",
              "          document.querySelector('#df-950d8500-4c31-4bdf-b88f-5c9b5e5cb381 button.colab-df-convert');\n",
              "        buttonEl.style.display =\n",
              "          google.colab.kernel.accessAllowed ? 'block' : 'none';\n",
              "\n",
              "        async function convertToInteractive(key) {\n",
              "          const element = document.querySelector('#df-950d8500-4c31-4bdf-b88f-5c9b5e5cb381');\n",
              "          const dataTable =\n",
              "            await google.colab.kernel.invokeFunction('convertToInteractive',\n",
              "                                                     [key], {});\n",
              "          if (!dataTable) return;\n",
              "\n",
              "          const docLinkHtml = 'Like what you see? Visit the ' +\n",
              "            '<a target=\"_blank\" href=https://colab.research.google.com/notebooks/data_table.ipynb>data table notebook</a>'\n",
              "            + ' to learn more about interactive tables.';\n",
              "          element.innerHTML = '';\n",
              "          dataTable['output_type'] = 'display_data';\n",
              "          await google.colab.output.renderOutput(dataTable, element);\n",
              "          const docLink = document.createElement('div');\n",
              "          docLink.innerHTML = docLinkHtml;\n",
              "          element.appendChild(docLink);\n",
              "        }\n",
              "      </script>\n",
              "    </div>\n",
              "  </div>\n",
              "  "
            ],
            "text/plain": [
              "   Глубина  Положение долота  ...  Код стратиграфии  Код осложнений\n",
              "1  0.00116          0.331429  ...                20               0\n",
              "2  0.00117          0.334286  ...                20               0\n",
              "3  0.00118          0.337143  ...                20               0\n",
              "4  0.00119          0.340000  ...                20               0\n",
              "5  0.00120          0.342857  ...                20               0\n",
              "\n",
              "[5 rows x 22 columns]"
            ]
          },
          "metadata": {},
          "execution_count": 24
        }
      ]
    },
    {
      "cell_type": "markdown",
      "metadata": {
        "id": "3uf4xSUsAwEY"
      },
      "source": [
        "# Формирование датасета из данных"
      ]
    },
    {
      "cell_type": "code",
      "metadata": {
        "id": "e_AvhKq6AwEZ"
      },
      "source": [
        "from sklearn.preprocessing import OneHotEncoder, LabelEncoder"
      ],
      "execution_count": 25,
      "outputs": []
    },
    {
      "cell_type": "code",
      "metadata": {
        "id": "G7rfpFG4AwEZ"
      },
      "source": [
        "#Коды литологии и стратиграфии\n",
        "litology_code=pd.read_csv(directory+'Data/Литология_коды.csv', header=1, delimiter=';', usecols=[0,1])\n",
        "stratigraphy_code=pd.read_csv(directory+'Data/Стратиграфия_коды.csv', header=1, delimiter=';', usecols=[0,1])"
      ],
      "execution_count": 26,
      "outputs": []
    },
    {
      "cell_type": "code",
      "metadata": {
        "id": "ifF6QELnAwEZ",
        "colab": {
          "base_uri": "https://localhost:8080/"
        },
        "outputId": "94633815-1943-493f-d1cf-68ea54216545"
      },
      "source": [
        "#В файлах встречаются коды литологии 12, 16, 113\n",
        "#Встречаются стратиграфии 30\n",
        "lit_codes=np.sort(np.hstack([litology_code['Код литологии'].values,12,16,113, 64537]))\n",
        "print(f\"Количество литологий: {len(lit_codes)}\")\n",
        "strat_codes=np.sort(np.hstack([stratigraphy_code['Код стратиграфии'].values])).reshape(1,-1)\n",
        "print(f\"Количество стратиграфий: {len(strat_codes[0])}\")"
      ],
      "execution_count": 27,
      "outputs": [
        {
          "output_type": "stream",
          "name": "stdout",
          "text": [
            "Количество литологий: 20\n",
            "Количество стратиграфий: 22\n"
          ]
        }
      ]
    },
    {
      "cell_type": "code",
      "metadata": {
        "id": "BMlkjaS9AwEa"
      },
      "source": [
        "encoder_lit = OneHotEncoder(categories=lit_codes.reshape(1,-1))\n",
        "encoder_strat = OneHotEncoder(categories=strat_codes)\n",
        "label_encoder=LabelEncoder()"
      ],
      "execution_count": 28,
      "outputs": []
    },
    {
      "cell_type": "code",
      "metadata": {
        "id": "d43Y_da6c2JY"
      },
      "source": [
        "#Если нужно, то заменяем некоторые коды литологии и стратиграфии\n",
        "df.replace({\"Код стратиграфии\": {30: 31}}, inplace=True)"
      ],
      "execution_count": 29,
      "outputs": []
    },
    {
      "cell_type": "code",
      "metadata": {
        "id": "WQKefNPXAwEa"
      },
      "source": [
        "%%capture --no-stdout\n",
        "#Перевод всех данных в двумерный массив и one-hot encoding для столбцов \n",
        "#кодов литологии и кодов стратиграфии\n",
        "\n",
        "X=df.drop(columns=['Код Литологии', 'Код осложнений', 'Код стратиграфии']).values\n",
        "#Y=df['Код осложнений'].values\n",
        "Y=(df['Код осложнений'].values>0).astype(int)\n",
        "encoded_X_lit=encoder_lit.fit_transform(df['Код Литологии'].values.reshape(-1,1)).toarray()\n",
        "encoded_X_strat=encoder_strat.fit_transform(df['Код стратиграфии'].values.reshape(-1,1)).toarray()\n",
        "#total_X= np.hstack([X, encoded_X_lit, encoded_X_strat])\n",
        "total_X=np.hstack([X, encoded_X_strat])\n",
        "total_Y=Y"
      ],
      "execution_count": 30,
      "outputs": []
    },
    {
      "cell_type": "code",
      "metadata": {
        "id": "8BoyprpcAwEa",
        "colab": {
          "base_uri": "https://localhost:8080/"
        },
        "outputId": "e5781d2b-fb1b-484e-c177-071752d2bcac"
      },
      "source": [
        "total_X.shape"
      ],
      "execution_count": 31,
      "outputs": [
        {
          "output_type": "execute_result",
          "data": {
            "text/plain": [
              "(31219, 41)"
            ]
          },
          "metadata": {},
          "execution_count": 31
        }
      ]
    },
    {
      "cell_type": "code",
      "metadata": {
        "id": "XJayyPrRAwEb",
        "colab": {
          "base_uri": "https://localhost:8080/"
        },
        "outputId": "1a465180-8303-4ceb-8327-edab45d9ee28"
      },
      "source": [
        "%%capture --no-stdout\n",
        "#Объединение данных в группы по number_of_depth_points точек\n",
        "number_of_depth_points=50\n",
        "n_steps_forward=10\n",
        "    \n",
        "X_grouped=np.lib.stride_tricks.sliding_window_view(total_X,(number_of_depth_points,total_X.shape[1]))[:-n_steps_forward,0]\n",
        "    \n",
        "Y_grouped=np.lib.stride_tricks.sliding_window_view(Y[number_of_depth_points:],(n_steps_forward,))\n",
        "\n",
        "print(X_grouped.shape)\n",
        "print(Y_grouped.shape)"
      ],
      "execution_count": 32,
      "outputs": [
        {
          "output_type": "stream",
          "name": "stdout",
          "text": [
            "(31160, 50, 41)\n",
            "(31160, 10)\n"
          ]
        }
      ]
    },
    {
      "cell_type": "markdown",
      "metadata": {
        "id": "ITR6IVCNAwEb"
      },
      "source": [
        "# Тест модели"
      ]
    },
    {
      "cell_type": "code",
      "metadata": {
        "colab": {
          "base_uri": "https://localhost:8080/"
        },
        "id": "gHIfZkTvAwEb",
        "outputId": "c879da6c-8790-4300-fa83-166efe008026"
      },
      "source": [
        "%%time\n",
        "outputs = model(torch.Tensor(X_grouped))"
      ],
      "execution_count": 33,
      "outputs": [
        {
          "output_type": "stream",
          "name": "stderr",
          "text": [
            "/usr/local/lib/python3.7/dist-packages/ipykernel_launcher.py:1: UserWarning: The given NumPy array is not writeable, and PyTorch does not support non-writeable tensors. This means you can write to the underlying (supposedly non-writeable) NumPy array using the tensor. You may want to copy the array to protect its data or make it writeable before converting it to a tensor. This type of warning will be suppressed for the rest of this program. (Triggered internally at  ../torch/csrc/utils/tensor_numpy.cpp:189.)\n",
            "  \"\"\"Entry point for launching an IPython kernel.\n"
          ]
        },
        {
          "output_type": "stream",
          "name": "stdout",
          "text": [
            "CPU times: user 1.08 s, sys: 1.3 s, total: 2.37 s\n",
            "Wall time: 2.52 s\n"
          ]
        }
      ]
    },
    {
      "cell_type": "code",
      "metadata": {
        "id": "pxXmqg4KFYxp"
      },
      "source": [
        "n_outputs = model.decoder.n_steps\n",
        "correct_answers = np.zeros(n_outputs)\n",
        "correctly_predicted_errors = np.zeros(n_outputs)\n",
        "total_samples=np.zeros(n_outputs)\n",
        "total_errors=np.zeros(n_outputs)\n",
        "    \n",
        "with torch.no_grad():\n",
        "    labels = torch.Tensor(Y_grouped)\n",
        "    for ind, output in enumerate(outputs):\n",
        "      label=labels[:,ind]\n",
        "      _, predicted = torch.max(output.data, 1)\n",
        "      #print(labels>0)\n",
        "      correct_answers[ind]=correct_answers[ind]+(predicted == label).sum().item()\n",
        "      correctly_predicted_errors[ind]=correctly_predicted_errors[ind]+((predicted == label) & (label>0)).sum().item()\n",
        "      total_samples[ind]=total_samples[ind]+len(label)\n",
        "      total_errors[ind]=total_errors[ind] + len(label[label>0])\n",
        "error_acc = correctly_predicted_errors/total_errors\n",
        "acc = correct_answers/total_samples"
      ],
      "execution_count": 34,
      "outputs": []
    },
    {
      "cell_type": "code",
      "metadata": {
        "colab": {
          "base_uri": "https://localhost:8080/"
        },
        "id": "LW1zjarmAwEc",
        "outputId": "cba17ba7-a63c-4dc6-a4b0-648536df4105"
      },
      "source": [
        "print(f\"Test accuracy: {acc}, test error accuracy: {error_acc}\")\n",
        "print(f\"Total errors in test dataset: {total_errors}\")"
      ],
      "execution_count": 35,
      "outputs": [
        {
          "output_type": "stream",
          "name": "stdout",
          "text": [
            "Test accuracy: [0.98761232 0.98761232 0.98761232 0.98761232 0.98761232 0.98761232\n",
            " 0.98761232 0.98761232 0.98761232 0.98761232], test error accuracy: [0. 0. 0. 0. 0. 0. 0. 0. 0. 0.]\n",
            "Total errors in test dataset: [386. 386. 386. 386. 386. 386. 386. 386. 386. 386.]\n"
          ]
        }
      ]
    },
    {
      "cell_type": "code",
      "metadata": {
        "id": "uOM_WnereFXQ"
      },
      "source": [
        "arr=np.where(Y_grouped==0, \"Нет осложнения\", \"Осложнение\")"
      ],
      "execution_count": 36,
      "outputs": []
    },
    {
      "cell_type": "markdown",
      "metadata": {
        "id": "qCkUiTomIJzB"
      },
      "source": [
        "# Визуализация предсказания"
      ]
    },
    {
      "cell_type": "code",
      "metadata": {
        "id": "t1-DfhqTI-fk"
      },
      "source": [
        "save_fig=True\n",
        "step_number=2"
      ],
      "execution_count": 37,
      "outputs": []
    },
    {
      "cell_type": "code",
      "metadata": {
        "colab": {
          "base_uri": "https://localhost:8080/",
          "height": 1000
        },
        "id": "VWdW2k7PGhrZ",
        "outputId": "2fb4dc77-1385-4b82-8342-b5497ca13c17"
      },
      "source": [
        "for ind_out, output in enumerate(outputs):\n",
        "  plt.figure(figsize=(12,3))\n",
        "  arr=np.where(labels[:,ind_out]==0, \"Нет осложнения\", \"Осложнение\")\n",
        "  plt.scatter(X_grouped[:,-1,0]*max_depth,arr, s=0.5, label='Данные')\n",
        "  #label=labels[:,ind_out]\n",
        "  _, predicted = torch.max(output.data, 1)\n",
        "  pred = predicted.cpu()\n",
        "      \n",
        "  plt.scatter(X_grouped[:,-1,0]*max_depth,pred+0.03, s=0.5, label=f'Прогноз на {ind_out+1} шагов')   \n",
        "  plt.xlabel('Глубина')\n",
        "    \n",
        "  plt.legend()\n",
        "  plt.ylim(top=1.1, bottom=-0.1)\n",
        "  if (save_fig and ind_out==step_number-1):\n",
        "    fig_file=file.split('.')[0]\n",
        "    plt.savefig(directory+'Data/Prediction_vis/'+ fig_file+'_future.png',dpi=600, facecolor='white', bbox_inches='tight')\n",
        "  \n",
        "  plt.show()"
      ],
      "execution_count": 38,
      "outputs": [
        {
          "output_type": "display_data",
          "data": {
            "image/png": "[encoded data removed]",
            "text/plain": [
              "<Figure size 864x216 with 1 Axes>"
            ]
          },
          "metadata": {
            "needs_background": "light"
          }
        },
        {
          "output_type": "display_data",
          "data": {
            "image/png": "[encoded data removed]",
            "text/plain": [
              "<Figure size 864x216 with 1 Axes>"
            ]
          },
          "metadata": {
            "needs_background": "light"
          }
        },
        {
          "output_type": "display_data",
          "data": {
            "image/png": "[encoded data removed]",
            "text/plain": [
              "<Figure size 864x216 with 1 Axes>"
            ]
          },
          "metadata": {
            "needs_background": "light"
          }
        },
        {
          "output_type": "display_data",
          "data": {
            "image/png": "[encoded data removed]",
            "text/plain": [
              "<Figure size 864x216 with 1 Axes>"
            ]
          },
          "metadata": {
            "needs_background": "light"
          }
        },
        {
          "output_type": "display_data",
          "data": {
            "image/png": "[encoded data removed]",
            "text/plain": [
              "<Figure size 864x216 with 1 Axes>"
            ]
          },
          "metadata": {
            "needs_background": "light"
          }
        },
        {
          "output_type": "display_data",
          "data": {
            "image/png": "[encoded data removed]",
            "text/plain": [
              "<Figure size 864x216 with 1 Axes>"
            ]
          },
          "metadata": {
            "needs_background": "light"
          }
        },
        {
          "output_type": "display_data",
          "data": {
            "image/png": "[encoded data removed]",
            "text/plain": [
              "<Figure size 864x216 with 1 Axes>"
            ]
          },
          "metadata": {
            "needs_background": "light"
          }
        },
        {
          "output_type": "display_data",
          "data": {
            "image/png": "[encoded data removed]",
            "text/plain": [
              "<Figure size 864x216 with 1 Axes>"
            ]
          },
          "metadata": {
            "needs_background": "light"
          }
        },
        {
          "output_type": "display_data",
          "data": {
            "image/png": "[encoded data removed]",
            "text/plain": [
              "<Figure size 864x216 with 1 Axes>"
            ]
          },
          "metadata": {
            "needs_background": "light"
          }
        },
        {
          "output_type": "display_data",
          "data": {
            "image/png": "[encoded data removed]",
            "text/plain": [
              "<Figure size 864x216 with 1 Axes>"
            ]
          },
          "metadata": {
            "needs_background": "light"
          }
        }
      ]
    },
    {
      "cell_type": "code",
      "metadata": {
        "id": "qP74y_abAwEd"
      },
      "source": [
        ""
      ],
      "execution_count": null,
      "outputs": []
    }
  ]
}